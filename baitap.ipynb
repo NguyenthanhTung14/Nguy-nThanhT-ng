{
  "nbformat": 4,
  "nbformat_minor": 0,
  "metadata": {
    "colab": {
      "provenance": [],
      "authorship_tag": "ABX9TyOTs6CzsTsrYL6llLpImo9N",
      "include_colab_link": true
    },
    "kernelspec": {
      "name": "python3",
      "display_name": "Python 3"
    },
    "language_info": {
      "name": "python"
    }
  },
  "cells": [
    {
      "cell_type": "markdown",
      "metadata": {
        "id": "view-in-github",
        "colab_type": "text"
      },
      "source": [
        "<a href=\"https://colab.research.google.com/github/NguyenthanhTung14/Nguy-nThanhT-ng/blob/main/baitap.ipynb\" target=\"_parent\"><img src=\"https://colab.research.google.com/assets/colab-badge.svg\" alt=\"Open In Colab\"/></a>"
      ]
    },
    {
      "cell_type": "code",
      "execution_count": 14,
      "metadata": {
        "colab": {
          "base_uri": "https://localhost:8080/"
        },
        "id": "v2E8JCIP0Pwm",
        "outputId": "73cea921-0ddf-4a05-e991-f3a38f2bea4f"
      },
      "outputs": [
        {
          "output_type": "stream",
          "name": "stdout",
          "text": [
            "Số huy chương của CAN: 119\n",
            "Số huy chương chương vàng theo môn cá nhân: 65\n"
          ]
        }
      ],
      "source": [
        "# tìm số lượng huy chương của _CANADA\n",
        "#tìm số huy chương vàng theo môn thi cá nhân \n",
        "import pandas as pd\n",
        "url = 'medals.csv'\n",
        "data = pd.read_csv(url)\n",
        "#Lọc dữ liệu mong muốn ( tìm số lượng huy chương của _CANADA)\n",
        "#data = data.set_index(data['NOC'])\n",
        "#data.loc['CAN']\n",
        "\n",
        "#tìm số huy chương vàng theo môn thi cá nhân \n",
        "#Lọc nhiều trường\n",
        "#data[(data['Event']=='individual') & (dataframe['Medal']== 'Gold')]\n",
        "\n",
        "datas=data[(data['NOC'] =='CAN')]\n",
        "print(\"Số huy chương của CAN:\",datas['Medal'].count())\n",
        "data1=data[(data['Event'] =='individual') & (data['Medal']=='Gold')] \n",
        "print(\"Số huy chương chương vàng theo môn cá nhân:\",data1['Event'].count())\n",
        "\n",
        "\n"
      ]
    }
  ]
}