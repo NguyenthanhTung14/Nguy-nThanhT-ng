{
  "nbformat": 4,
  "nbformat_minor": 0,
  "metadata": {
    "colab": {
      "provenance": [],
      "mount_file_id": "14Fj7Ya9E5zP_MJf6oA6ZqERhG-g1UEyZ",
      "authorship_tag": "ABX9TyP8FoHn9h485GTwK0ZQrtGr",
      "include_colab_link": true
    },
    "kernelspec": {
      "name": "python3",
      "display_name": "Python 3"
    },
    "language_info": {
      "name": "python"
    },
    "accelerator": "GPU",
    "gpuClass": "standard"
  },
  "cells": [
    {
      "cell_type": "markdown",
      "metadata": {
        "id": "view-in-github",
        "colab_type": "text"
      },
      "source": [
        "<a href=\"https://colab.research.google.com/github/NguyenthanhTung14/Nguy-nThanhT-ng/blob/main/ngay10_4_train.ipynb\" target=\"_parent\"><img src=\"https://colab.research.google.com/assets/colab-badge.svg\" alt=\"Open In Colab\"/></a>"
      ]
    },
    {
      "cell_type": "code",
      "execution_count": 2,
      "metadata": {
        "colab": {
          "base_uri": "https://localhost:8080/",
          "height": 130
        },
        "id": "v8lJqWmmz3eZ",
        "outputId": "79965f3b-684f-4501-fb6d-1f524acddbdd"
      },
      "outputs": [
        {
          "output_type": "error",
          "ename": "SyntaxError",
          "evalue": "ignored",
          "traceback": [
            "\u001b[0;36m  File \u001b[0;32m\"<ipython-input-2-56e800baf5d3>\"\u001b[0;36m, line \u001b[0;32m5\u001b[0m\n\u001b[0;31m    Mounted at /content/drive\u001b[0m\n\u001b[0m            ^\u001b[0m\n\u001b[0;31mSyntaxError\u001b[0m\u001b[0;31m:\u001b[0m invalid syntax\n"
          ]
        }
      ],
      "source": []
    },
    {
      "cell_type": "code",
      "source": [
        "from keras.datasets.fashion_mnist import load_data #dấu chấm là đường dẫn\n",
        "\n",
        "(train_X, train_Y), (test_X, test_Y) = load_data()\n",
        "\n",
        "print(train_X.shape)\n",
        "print(test_X.shape)\n",
        "\n",
        "from matplotlib import pyplot as plt\n",
        "plt.figure(figsize = [10,10])\n",
        "plt.subplot(121)\n",
        "plt.imshow(train_X[0],cmap ='gray')\n",
        "plt.title('So: {}'.format(train_Y[0]))\n",
        "plt.subplot(122)\n",
        "plt.imshow(train_X[100],cmap ='gray')\n",
        "plt.title('So: {}'.format(train_Y[100]))\n",
        "\n",
        "train_X = train_X.reshape(60000,28,28,1)\n",
        "test_X = test_X.reshape(10000,28,28,1)\n",
        "print(train_X.shape)\n",
        "print(test_X.shape)\n",
        "\n",
        "train_X = train_X.astype('float32')\n",
        "train_X = train_X/255\n",
        "test_X = test_X.astype('float32')\n",
        "test_X = test_X/255\n",
        "\n",
        "from keras.utils import to_categorical\n",
        "train_Y = to_categorical(train_Y)\n",
        "test_Y = to_categorical(test_Y)\n",
        "\n",
        "from keras.models import Sequential,Model\n",
        "from keras.layers import Dense,Flatten,Dropout,Conv2D,MaxPooling2D,Normalization,Input\n",
        "\n",
        "from keras.optimizers import Adam\n",
        "batch_size = 64 \n",
        "epochs = 24 \n",
        "classes = 10\n",
        "\n",
        "#CNN\n",
        "from keras.layers import LeakyReLU\n",
        "\n",
        "model = Sequential()\n",
        "\n",
        "model.add(Conv2D(32,kernel_size=(3,3), activation= 'linear',input_shape = (28,28,1),padding = 'same'))\n",
        "model.add(LeakyReLU(alpha =0.1))\n",
        "model.add(MaxPooling2D((2,2),padding = 'same'))\n",
        "\n",
        "model.add(Conv2D(64,(3,3),activation='linear',padding = 'same'))\n",
        "model.add(LeakyReLU(alpha = 0.1))\n",
        "model.add(MaxPooling2D((2,2),padding = 'same'))\n",
        "\n",
        "model.add(Conv2D(128,(3,3),activation='linear',padding = 'same'))\n",
        "model.add(LeakyReLU(alpha = 0.1))\n",
        "model.add(MaxPooling2D((2,2),padding = 'same'))\n",
        "\n",
        "model.summary()\n",
        "\n",
        "#ANN\n",
        "from keras import losses\n",
        "\n",
        "model.add(Flatten())\n",
        "model.add(Dense(128,activation='linear'))\n",
        "model.add(LeakyReLU(alpha =0.1))\n",
        "model.add(Dense(classes,activation='softmax'))\n",
        "model.compile(loss = losses.categorical_crossentropy,optimizer=Adam(),metrics = ['accuracy'])\n",
        "model.summary()\n",
        "train = model.fit(train_X,train_Y,batch_size=batch_size,epochs=epochs,verbose=1)\n",
        "\n",
        "test_acc,test_loss = model.evaluate(test_X, test_Y)\n",
        "\n",
        "print(\"test_acc\",test_acc)\n",
        "print(\"test_loss\",test_loss)"
      ],
      "metadata": {
        "colab": {
          "base_uri": "https://localhost:8080/",
          "height": 1000
        },
        "id": "nJ__sqK00oJc",
        "outputId": "e18b7c3a-24b0-4c2a-cb14-a888bc4e3ec5"
      },
      "execution_count": 1,
      "outputs": [
        {
          "output_type": "stream",
          "name": "stdout",
          "text": [
            "Downloading data from https://storage.googleapis.com/tensorflow/tf-keras-datasets/train-labels-idx1-ubyte.gz\n",
            "29515/29515 [==============================] - 0s 0us/step\n",
            "Downloading data from https://storage.googleapis.com/tensorflow/tf-keras-datasets/train-images-idx3-ubyte.gz\n",
            "26421880/26421880 [==============================] - 0s 0us/step\n",
            "Downloading data from https://storage.googleapis.com/tensorflow/tf-keras-datasets/t10k-labels-idx1-ubyte.gz\n",
            "5148/5148 [==============================] - 0s 0us/step\n",
            "Downloading data from https://storage.googleapis.com/tensorflow/tf-keras-datasets/t10k-images-idx3-ubyte.gz\n",
            "4422102/4422102 [==============================] - 0s 0us/step\n",
            "(60000, 28, 28)\n",
            "(10000, 28, 28)\n",
            "(60000, 28, 28, 1)\n",
            "(10000, 28, 28, 1)\n",
            "Model: \"sequential\"\n",
            "_________________________________________________________________\n",
            " Layer (type)                Output Shape              Param #   \n",
            "=================================================================\n",
            " conv2d (Conv2D)             (None, 28, 28, 32)        320       \n",
            "                                                                 \n",
            " leaky_re_lu (LeakyReLU)     (None, 28, 28, 32)        0         \n",
            "                                                                 \n",
            " max_pooling2d (MaxPooling2D  (None, 14, 14, 32)       0         \n",
            " )                                                               \n",
            "                                                                 \n",
            " conv2d_1 (Conv2D)           (None, 14, 14, 64)        18496     \n",
            "                                                                 \n",
            " leaky_re_lu_1 (LeakyReLU)   (None, 14, 14, 64)        0         \n",
            "                                                                 \n",
            " max_pooling2d_1 (MaxPooling  (None, 7, 7, 64)         0         \n",
            " 2D)                                                             \n",
            "                                                                 \n",
            " conv2d_2 (Conv2D)           (None, 7, 7, 128)         73856     \n",
            "                                                                 \n",
            " leaky_re_lu_2 (LeakyReLU)   (None, 7, 7, 128)         0         \n",
            "                                                                 \n",
            " max_pooling2d_2 (MaxPooling  (None, 4, 4, 128)        0         \n",
            " 2D)                                                             \n",
            "                                                                 \n",
            "=================================================================\n",
            "Total params: 92,672\n",
            "Trainable params: 92,672\n",
            "Non-trainable params: 0\n",
            "_________________________________________________________________\n",
            "Model: \"sequential\"\n",
            "_________________________________________________________________\n",
            " Layer (type)                Output Shape              Param #   \n",
            "=================================================================\n",
            " conv2d (Conv2D)             (None, 28, 28, 32)        320       \n",
            "                                                                 \n",
            " leaky_re_lu (LeakyReLU)     (None, 28, 28, 32)        0         \n",
            "                                                                 \n",
            " max_pooling2d (MaxPooling2D  (None, 14, 14, 32)       0         \n",
            " )                                                               \n",
            "                                                                 \n",
            " conv2d_1 (Conv2D)           (None, 14, 14, 64)        18496     \n",
            "                                                                 \n",
            " leaky_re_lu_1 (LeakyReLU)   (None, 14, 14, 64)        0         \n",
            "                                                                 \n",
            " max_pooling2d_1 (MaxPooling  (None, 7, 7, 64)         0         \n",
            " 2D)                                                             \n",
            "                                                                 \n",
            " conv2d_2 (Conv2D)           (None, 7, 7, 128)         73856     \n",
            "                                                                 \n",
            " leaky_re_lu_2 (LeakyReLU)   (None, 7, 7, 128)         0         \n",
            "                                                                 \n",
            " max_pooling2d_2 (MaxPooling  (None, 4, 4, 128)        0         \n",
            " 2D)                                                             \n",
            "                                                                 \n",
            " flatten (Flatten)           (None, 2048)              0         \n",
            "                                                                 \n",
            " dense (Dense)               (None, 128)               262272    \n",
            "                                                                 \n",
            " leaky_re_lu_3 (LeakyReLU)   (None, 128)               0         \n",
            "                                                                 \n",
            " dense_1 (Dense)             (None, 10)                1290      \n",
            "                                                                 \n",
            "=================================================================\n",
            "Total params: 356,234\n",
            "Trainable params: 356,234\n",
            "Non-trainable params: 0\n",
            "_________________________________________________________________\n",
            "Epoch 1/24\n",
            "938/938 [==============================] - 15s 4ms/step - loss: 0.4370 - accuracy: 0.8410\n",
            "Epoch 2/24\n",
            "938/938 [==============================] - 5s 5ms/step - loss: 0.2719 - accuracy: 0.9014\n",
            "Epoch 3/24\n",
            "938/938 [==============================] - 4s 4ms/step - loss: 0.2271 - accuracy: 0.9169\n",
            "Epoch 4/24\n",
            "938/938 [==============================] - 4s 4ms/step - loss: 0.1979 - accuracy: 0.9277\n",
            "Epoch 5/24\n",
            "938/938 [==============================] - 4s 4ms/step - loss: 0.1731 - accuracy: 0.9357\n",
            "Epoch 6/24\n",
            "938/938 [==============================] - 4s 5ms/step - loss: 0.1526 - accuracy: 0.9427\n",
            "Epoch 7/24\n",
            "938/938 [==============================] - 4s 4ms/step - loss: 0.1310 - accuracy: 0.9507\n",
            "Epoch 8/24\n",
            "938/938 [==============================] - 4s 4ms/step - loss: 0.1162 - accuracy: 0.9559\n",
            "Epoch 9/24\n",
            "938/938 [==============================] - 5s 5ms/step - loss: 0.0961 - accuracy: 0.9638\n",
            "Epoch 10/24\n",
            "938/938 [==============================] - 4s 4ms/step - loss: 0.0844 - accuracy: 0.9689\n",
            "Epoch 11/24\n",
            "938/938 [==============================] - 4s 4ms/step - loss: 0.0709 - accuracy: 0.9744\n",
            "Epoch 12/24\n",
            "938/938 [==============================] - 5s 5ms/step - loss: 0.0639 - accuracy: 0.9759\n",
            "Epoch 13/24\n",
            "938/938 [==============================] - 4s 4ms/step - loss: 0.0532 - accuracy: 0.9802\n",
            "Epoch 14/24\n",
            "938/938 [==============================] - 4s 4ms/step - loss: 0.0480 - accuracy: 0.9823\n",
            "Epoch 15/24\n",
            "938/938 [==============================] - 5s 5ms/step - loss: 0.0450 - accuracy: 0.9831\n",
            "Epoch 16/24\n",
            "938/938 [==============================] - 5s 5ms/step - loss: 0.0387 - accuracy: 0.9858\n",
            "Epoch 17/24\n",
            "938/938 [==============================] - 4s 4ms/step - loss: 0.0365 - accuracy: 0.9865\n",
            "Epoch 18/24\n",
            "938/938 [==============================] - 4s 4ms/step - loss: 0.0347 - accuracy: 0.9875\n",
            "Epoch 19/24\n",
            "938/938 [==============================] - 4s 4ms/step - loss: 0.0338 - accuracy: 0.9883\n",
            "Epoch 20/24\n",
            "938/938 [==============================] - 4s 4ms/step - loss: 0.0272 - accuracy: 0.9902\n",
            "Epoch 21/24\n",
            "938/938 [==============================] - 4s 4ms/step - loss: 0.0338 - accuracy: 0.9877\n",
            "Epoch 22/24\n",
            "938/938 [==============================] - 5s 5ms/step - loss: 0.0252 - accuracy: 0.9907\n",
            "Epoch 23/24\n",
            "938/938 [==============================] - 4s 4ms/step - loss: 0.0256 - accuracy: 0.9909\n",
            "Epoch 24/24\n",
            "938/938 [==============================] - 4s 4ms/step - loss: 0.0304 - accuracy: 0.9893\n",
            "313/313 [==============================] - 1s 3ms/step - loss: 0.4563 - accuracy: 0.9146\n",
            "test_acc 0.45632362365722656\n",
            "test_loss 0.9146000146865845\n"
          ]
        },
        {
          "output_type": "display_data",
          "data": {
            "text/plain": [
              "<Figure size 1000x1000 with 2 Axes>"
            ],
            "image/png": "[encoded data removed]"
          },
          "metadata": {}
        }
      ]
    },
    {
      "cell_type": "code",
      "source": [
        "#Lưu model lại\n",
        "model.save('fashionmnist.h5')"
      ],
      "metadata": {
        "id": "PNDFZWcE1wMb"
      },
      "execution_count": 2,
      "outputs": []
    },
    {
      "cell_type": "code",
      "source": [
        "#Tải model lưu lên drive\n",
        "from google.colab import drive\n",
        "drive.mount('/content/drive')\n",
        "!cp fashionmnist.h5 \"/content/drive/MyDrive/Colab Notebooks\""
      ],
      "metadata": {
        "colab": {
          "base_uri": "https://localhost:8080/"
        },
        "id": "NcTJEXVt118H",
        "outputId": "f767190a-4e8a-4e73-8ad1-36efd81d1ad8"
      },
      "execution_count": 4,
      "outputs": [
        {
          "output_type": "stream",
          "name": "stdout",
          "text": [
            "Drive already mounted at /content/drive; to attempt to forcibly remount, call drive.mount(\"/content/drive\", force_remount=True).\n"
          ]
        }
      ]
    }
  ]
}