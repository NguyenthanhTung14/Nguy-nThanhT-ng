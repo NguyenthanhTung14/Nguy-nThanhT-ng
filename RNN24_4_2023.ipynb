{
  "nbformat": 4,
  "nbformat_minor": 0,
  "metadata": {
    "colab": {
      "provenance": [],
      "include_colab_link": true
    },
    "kernelspec": {
      "name": "python3",
      "display_name": "Python 3"
    },
    "language_info": {
      "name": "python"
    }
  },
  "cells": [
    {
      "cell_type": "markdown",
      "metadata": {
        "id": "view-in-github",
        "colab_type": "text"
      },
      "source": [
        "<a href=\"https://colab.research.google.com/github/NguyenthanhTung14/Nguy-nThanhT-ng/blob/main/RNN24_4_2023.ipynb\" target=\"_parent\"><img src=\"https://colab.research.google.com/assets/colab-badge.svg\" alt=\"Open In Colab\"/></a>"
      ]
    },
    {
      "cell_type": "code",
      "execution_count": 2,
      "metadata": {
        "id": "JfC2jlUO2sVq",
        "colab": {
          "base_uri": "https://localhost:8080/",
          "height": 53
        },
        "outputId": "1b499df6-65e2-4894-b54f-67bcee9b2fc8"
      },
      "outputs": [
        {
          "output_type": "execute_result",
          "data": {
            "text/plain": [
              "' Reecurrent Neural Network Natural Language Processing\\n- Chatbox: GPT, Siri,..\\n- Autocomplet in Search Engines\\n- Voice Assistance\\n- Language Translator\\n- Sentiment Analysis\\n- Grammar checker\\n- Email classification and filtering\\n- Healthcare\\n- Finance\\n- Education\\n- Business\\n- Data analysis\\n'"
            ],
            "application/vnd.google.colaboratory.intrinsic+json": {
              "type": "string"
            }
          },
          "metadata": {},
          "execution_count": 2
        }
      ],
      "source": [
        "''' Reecurrent Neural Network Natural Language Processing\n",
        "- Chatbox: GPT, Siri,..\n",
        "- Autocomplet in Search Engines\n",
        "- Voice Assistance\n",
        "- Language Translator\n",
        "- Sentiment Analysis\n",
        "- Grammar checker\n",
        "- Email classification and filtering\n",
        "- Healthcare\n",
        "- Finance\n",
        "- Education\n",
        "- Business\n",
        "- Data analysis\n",
        "'''"
      ]
    },
    {
      "cell_type": "code",
      "source": [
        "pip install youtube-search"
      ],
      "metadata": {
        "colab": {
          "base_uri": "https://localhost:8080/"
        },
        "id": "TZfuK6LO6c03",
        "outputId": "62e8aa05-2d12-4c28-a111-13cce9d13f50"
      },
      "execution_count": 3,
      "outputs": [
        {
          "output_type": "stream",
          "name": "stdout",
          "text": [
            "Looking in indexes: https://pypi.org/simple, https://us-python.pkg.dev/colab-wheels/public/simple/\n",
            "Collecting youtube-search\n",
            "  Downloading youtube_search-2.1.2-py3-none-any.whl (3.4 kB)\n",
            "Requirement already satisfied: requests in /usr/local/lib/python3.9/dist-packages (from youtube-search) (2.27.1)\n",
            "Requirement already satisfied: idna<4,>=2.5 in /usr/local/lib/python3.9/dist-packages (from requests->youtube-search) (3.4)\n",
            "Requirement already satisfied: charset-normalizer~=2.0.0 in /usr/local/lib/python3.9/dist-packages (from requests->youtube-search) (2.0.12)\n",
            "Requirement already satisfied: urllib3<1.27,>=1.21.1 in /usr/local/lib/python3.9/dist-packages (from requests->youtube-search) (1.26.15)\n",
            "Requirement already satisfied: certifi>=2017.4.17 in /usr/local/lib/python3.9/dist-packages (from requests->youtube-search) (2022.12.7)\n",
            "Installing collected packages: youtube-search\n",
            "Successfully installed youtube-search-2.1.2\n"
          ]
        }
      ]
    },
    {
      "cell_type": "code",
      "source": [
        "from youtube_search import YoutubeSearch\n",
        "import webbrowser\n",
        "from openpyxl import Workbook\n",
        "data = Workbook()\n",
        "sheet = data.active\n",
        "mysong = input('Xin mời bạn chọn tên bài hát: ')\n",
        "print(mysong)\n",
        "result = YoutubeSearch(mysong, max_results = 10).to_dict()\n",
        "print(result)"
      ],
      "metadata": {
        "colab": {
          "base_uri": "https://localhost:8080/"
        },
        "id": "THwVZYSO43LO",
        "outputId": "819bd248-9786-4434-8b59-8103b335e7ce"
      },
      "execution_count": 4,
      "outputs": [
        {
          "output_type": "stream",
          "name": "stdout",
          "text": [
            "Xin mời bạn chọn tên bài hát: Hãy trao cho anh\n",
            "Hãy trao cho anh\n",
            "[{'id': 'knW7-x7Y7RE', 'thumbnails': ['https://i.ytimg.com/vi/knW7-x7Y7RE/hq2.jpg?sqp=-oaymwEjCOADEI4CSFryq4qpAxUIARUAAAAAGAElAADIQj0AgKJDeAE=&rs=AOn4CLCqd3YXwzsdZM5-s08qOjGGvD_6uw'], 'title': 'SƠN TÙNG M-TP | HÃY TRAO CHO ANH ft. Snoop Dogg | Official MV', 'long_desc': None, 'channel': 'Sơn Tùng M-TP Official', 'duration': '4:23', 'views': '266,944,724 views', 'publish_time': '3 years ago', 'url_suffix': '/watch?v=knW7-x7Y7RE&pp=ygURSMOjeSB0cmFvIGNobyBhbmg%3D'}, {'id': 'ybK7f46KNoY', 'thumbnails': ['https://i.ytimg.com/vi/ybK7f46KNoY/hq2.jpg?sqp=-oaymwE9COADEI4CSFryq4qpAy8IARUAAAAAGAElAADIQj0AgKJDeAHwAQH4Af4JgALQBYoCDAgAEAEYNSBLKHIwDw==&rs=AOn4CLDAwiGF-MiuCP-OoItBOd8pjDeBzA'], 'title': 'Sơn Tùng MTP Live Hãy Trao Cho Anh in IVY MODA 5/10/2019', 'long_desc': None, 'channel': 'Đỗ Việt Chinh', 'duration': '5:09', 'views': '609,582 views', 'publish_time': '3 years ago', 'url_suffix': '/watch?v=ybK7f46KNoY&pp=ygURSMOjeSB0cmFvIGNobyBhbmg%3D'}, {'id': 'Zm7-Ef2akc8', 'thumbnails': ['https://i.ytimg.com/vi/Zm7-Ef2akc8/hq2.jpg?sqp=-oaymwE9COADEI4CSFryq4qpAy8IARUAAAAAGAElAADIQj0AgKJDeAHwAQH4Af4JgALQBYoCDAgAEAEYWiByKBEwDw==&rs=AOn4CLBTfhKZRy3w5gMhhLOGUrwH6I8TpA'], 'title': 'NONSTOP FULL TRACK SƠN TÙNG M-TP 2023 ✈ HÃY TRAO CHO ANH, LẠC TRÔI - VINZ, TVT, HAWAK REMIX TIKTOK', 'long_desc': None, 'channel': 'thanhhoang mixtape', 'duration': '1:02:38', 'views': '2,498 views', 'publish_time': '1 month ago', 'url_suffix': '/watch?v=Zm7-Ef2akc8&pp=ygURSMOjeSB0cmFvIGNobyBhbmg%3D'}, {'id': 'tHAL5EnIeKE', 'thumbnails': ['https://i.ytimg.com/vi/tHAL5EnIeKE/hq2.jpg?sqp=-oaymwEjCOADEI4CSFryq4qpAxUIARUAAAAAGAElAADIQj0AgKJDeAE=&rs=AOn4CLBExqDdGi17ac1hPSRQaaWa2DpSlQ'], 'title': 'Son Tung - Hay Trao Cho Anh (Vietnamese Lyrics with English Translation)', 'long_desc': None, 'channel': 'SAPPHIRE MUSIC', 'duration': '4:06', 'views': '163,068 views', 'publish_time': '3 years ago', 'url_suffix': '/watch?v=tHAL5EnIeKE&pp=ygURSMOjeSB0cmFvIGNobyBhbmg%3D'}, {'id': 'InvZW5e8C5E', 'thumbnails': ['https://i.ytimg.com/vi/InvZW5e8C5E/hq2.jpg?sqp=-oaymwE9COADEI4CSFryq4qpAy8IARUAAAAAGAElAADIQj0AgKJDeAHwAQH4AfQJgALQBYoCDAgAEAEYYiApKH8wDw==&rs=AOn4CLDCxKpUARx3KU3NsqEZcZjWFPEn9Q'], 'title': 'NONSTOP 2023 - HÃY TRAO CHO ANH TVT REMIX - FULL TRACK TVT REMIX HOT TIK TOK 2023 | BOY PHỐ MUZIK', 'long_desc': None, 'channel': 'BOY PHỐ MUZIK', 'duration': '44:02', 'views': '6,049 views', 'publish_time': '1 month ago', 'url_suffix': '/watch?v=InvZW5e8C5E&pp=ygURSMOjeSB0cmFvIGNobyBhbmg%3D'}, {'id': 'Mt4rU6SldBk', 'thumbnails': ['https://i.ytimg.com/vi/Mt4rU6SldBk/hq2.jpg?sqp=-oaymwE9COADEI4CSFryq4qpAy8IARUAAAAAGAElAADIQj0AgKJDeAHwAQH4Af4JgALQBYoCDAgAEAEYWSATKH8wDw==&rs=AOn4CLC5RlDwes99X7Ehcg48-eXoJz-ANQ'], 'title': 'Hãy Trao Cho Anh - Thereon Remix | Em Cho Ta Ngắm Thiên Đàng Vội Vàng Qua Chốc Lát Remix Xu Hướng', 'long_desc': None, 'channel': 'NGUYỄN MUSIC', 'duration': '5:52', 'views': '300,413 views', 'publish_time': '1 month ago', 'url_suffix': '/watch?v=Mt4rU6SldBk&pp=ygURSMOjeSB0cmFvIGNobyBhbmg%3D'}, {'id': 'jR5QWQ2to40', 'thumbnails': ['https://i.ytimg.com/vi/jR5QWQ2to40/hq2.jpg?sqp=-oaymwEjCOADEI4CSFryq4qpAxUIARUAAAAAGAElAADIQj0AgKJDeAE=&rs=AOn4CLAL4h0HMro0VlnIYIe24vNO0wiMGQ'], 'title': 'SƠN TÙNG M-TP | HÃY TRAO CHO ANH | Quang Dang Choreography', 'long_desc': None, 'channel': 'QUANG ĐĂNG', 'duration': '4:15', 'views': '5,701,817 views', 'publish_time': '3 years ago', 'url_suffix': '/watch?v=jR5QWQ2to40&pp=ygURSMOjeSB0cmFvIGNobyBhbmg%3D'}, {'id': 'CLgkRIeQPVw', 'thumbnails': ['https://i.ytimg.com/vi/CLgkRIeQPVw/hq2.jpg?sqp=-oaymwEjCOADEI4CSFryq4qpAxUIARUAAAAAGAElAADIQj0AgKJDeAE=&rs=AOn4CLDncs6qgdG_jx2ZncaPawdIi26d2g'], 'title': 'HÃY TRAO CHO ANH MTP ft. Snoop Dogg 1 hour', 'long_desc': None, 'channel': 'An Nguyen', 'duration': '1:01:51', 'views': '40,263 views', 'publish_time': '3 years ago', 'url_suffix': '/watch?v=CLgkRIeQPVw&pp=ygURSMOjeSB0cmFvIGNobyBhbmg%3D'}, {'id': 'wOu48aj0TaA', 'thumbnails': ['https://i.ytimg.com/vi/wOu48aj0TaA/hq2.jpg?sqp=-oaymwEjCOADEI4CSFryq4qpAxUIARUAAAAAGAElAADIQj0AgKJDeAE=&rs=AOn4CLAqCgO40RU3q12r7mMRnlfyFDEZSQ'], 'title': 'SƠN TÙNG M-TP | HÃY TRAO CHO ANH | RAP VERSION VIETNAM [ REMAKE ] | OFFICIAL | MUSIC', 'long_desc': None, 'channel': 'KICK DIZZ', 'duration': '4:06', 'views': '338,229 views', 'publish_time': '3 years ago', 'url_suffix': '/watch?v=wOu48aj0TaA&pp=ygURSMOjeSB0cmFvIGNobyBhbmg%3D'}, {'id': 'qg082QVOZkE', 'thumbnails': ['https://i.ytimg.com/vi/qg082QVOZkE/hq2.jpg?sqp=-oaymwEjCOADEI4CSFryq4qpAxUIARUAAAAAGAElAADIQj0AgKJDeAE=&rs=AOn4CLBVgMAT6QDEKfP5lknTwo6wsiLMRw'], 'title': '[HỌC SINH NHẢY CỰC MÁU TRÊN PHỐ ĐI BỘ] HÃY TRAO CHO ANH| SƠN TÙNG M-TP ft Snoop Dogg DANCE BY C.A.C', 'long_desc': None, 'channel': 'CAC Official', 'duration': '3:24', 'views': '27,075,451 views', 'publish_time': '3 years ago', 'url_suffix': '/watch?v=qg082QVOZkE&pp=ygURSMOjeSB0cmFvIGNobyBhbmg%3D'}]\n"
          ]
        }
      ]
    },
    {
      "cell_type": "code",
      "source": [
        "# In 1 cái đầu tiên khi search\n",
        "print(result[0]['title'])\n",
        "print(result[0]['url_suffix'])\n",
        "url = 'https://www.youtube.com' + result[0]['url_suffix']\n",
        "print(url)\n",
        "webbrowser.open(url)"
      ],
      "metadata": {
        "colab": {
          "base_uri": "https://localhost:8080/"
        },
        "id": "9wBeAgwb7GtJ",
        "outputId": "67be78e3-0b7f-4522-ff8b-572fba04a847"
      },
      "execution_count": 5,
      "outputs": [
        {
          "output_type": "stream",
          "name": "stdout",
          "text": [
            "SƠN TÙNG M-TP | HÃY TRAO CHO ANH ft. Snoop Dogg | Official MV\n",
            "/watch?v=knW7-x7Y7RE&pp=ygURSMOjeSB0cmFvIGNobyBhbmg%3D\n",
            "https://www.youtube.com/watch?v=knW7-x7Y7RE&pp=ygURSMOjeSB0cmFvIGNobyBhbmg%3D\n"
          ]
        },
        {
          "output_type": "execute_result",
          "data": {
            "text/plain": [
              "False"
            ]
          },
          "metadata": {},
          "execution_count": 5
        }
      ]
    },
    {
      "cell_type": "code",
      "source": [
        "# In 10 cái đầu tiên khi search\n",
        "for i in range(10):\n",
        "\tprint(result[i]['title'])\n",
        "\tprint(result[i]['url_suffix'])\n",
        "\turl = 'https://www.youtube.com' + result[i]['url_suffix']\n",
        "\tprint(url)\n",
        "\tsheet['A' + str(i+1)] = i+1\n",
        "\tsheet['B' + str(i+1)] = result[i]['title']\n",
        "\tsheet['C' + str(i+1)] = result[i]['url_suffix']\n",
        "\tsheet['D' + str(i+1)] = result[i]['views']\n",
        "\t#webbrowser.open(url)\n",
        "data.save('UTE.xlsx')"
      ],
      "metadata": {
        "colab": {
          "base_uri": "https://localhost:8080/"
        },
        "id": "pXQx4zQF6ttY",
        "outputId": "2c6e7358-da3b-4275-fd28-13c06286b7a1"
      },
      "execution_count": 6,
      "outputs": [
        {
          "output_type": "stream",
          "name": "stdout",
          "text": [
            "SƠN TÙNG M-TP | HÃY TRAO CHO ANH ft. Snoop Dogg | Official MV\n",
            "/watch?v=knW7-x7Y7RE&pp=ygURSMOjeSB0cmFvIGNobyBhbmg%3D\n",
            "https://www.youtube.com/watch?v=knW7-x7Y7RE&pp=ygURSMOjeSB0cmFvIGNobyBhbmg%3D\n",
            "Sơn Tùng MTP Live Hãy Trao Cho Anh in IVY MODA 5/10/2019\n",
            "/watch?v=ybK7f46KNoY&pp=ygURSMOjeSB0cmFvIGNobyBhbmg%3D\n",
            "https://www.youtube.com/watch?v=ybK7f46KNoY&pp=ygURSMOjeSB0cmFvIGNobyBhbmg%3D\n",
            "NONSTOP FULL TRACK SƠN TÙNG M-TP 2023 ✈ HÃY TRAO CHO ANH, LẠC TRÔI - VINZ, TVT, HAWAK REMIX TIKTOK\n",
            "/watch?v=Zm7-Ef2akc8&pp=ygURSMOjeSB0cmFvIGNobyBhbmg%3D\n",
            "https://www.youtube.com/watch?v=Zm7-Ef2akc8&pp=ygURSMOjeSB0cmFvIGNobyBhbmg%3D\n",
            "Son Tung - Hay Trao Cho Anh (Vietnamese Lyrics with English Translation)\n",
            "/watch?v=tHAL5EnIeKE&pp=ygURSMOjeSB0cmFvIGNobyBhbmg%3D\n",
            "https://www.youtube.com/watch?v=tHAL5EnIeKE&pp=ygURSMOjeSB0cmFvIGNobyBhbmg%3D\n",
            "NONSTOP 2023 - HÃY TRAO CHO ANH TVT REMIX - FULL TRACK TVT REMIX HOT TIK TOK 2023 | BOY PHỐ MUZIK\n",
            "/watch?v=InvZW5e8C5E&pp=ygURSMOjeSB0cmFvIGNobyBhbmg%3D\n",
            "https://www.youtube.com/watch?v=InvZW5e8C5E&pp=ygURSMOjeSB0cmFvIGNobyBhbmg%3D\n",
            "Hãy Trao Cho Anh - Thereon Remix | Em Cho Ta Ngắm Thiên Đàng Vội Vàng Qua Chốc Lát Remix Xu Hướng\n",
            "/watch?v=Mt4rU6SldBk&pp=ygURSMOjeSB0cmFvIGNobyBhbmg%3D\n",
            "https://www.youtube.com/watch?v=Mt4rU6SldBk&pp=ygURSMOjeSB0cmFvIGNobyBhbmg%3D\n",
            "SƠN TÙNG M-TP | HÃY TRAO CHO ANH | Quang Dang Choreography\n",
            "/watch?v=jR5QWQ2to40&pp=ygURSMOjeSB0cmFvIGNobyBhbmg%3D\n",
            "https://www.youtube.com/watch?v=jR5QWQ2to40&pp=ygURSMOjeSB0cmFvIGNobyBhbmg%3D\n",
            "HÃY TRAO CHO ANH MTP ft. Snoop Dogg 1 hour\n",
            "/watch?v=CLgkRIeQPVw&pp=ygURSMOjeSB0cmFvIGNobyBhbmg%3D\n",
            "https://www.youtube.com/watch?v=CLgkRIeQPVw&pp=ygURSMOjeSB0cmFvIGNobyBhbmg%3D\n",
            "SƠN TÙNG M-TP | HÃY TRAO CHO ANH | RAP VERSION VIETNAM [ REMAKE ] | OFFICIAL | MUSIC\n",
            "/watch?v=wOu48aj0TaA&pp=ygURSMOjeSB0cmFvIGNobyBhbmg%3D\n",
            "https://www.youtube.com/watch?v=wOu48aj0TaA&pp=ygURSMOjeSB0cmFvIGNobyBhbmg%3D\n",
            "[HỌC SINH NHẢY CỰC MÁU TRÊN PHỐ ĐI BỘ] HÃY TRAO CHO ANH| SƠN TÙNG M-TP ft Snoop Dogg DANCE BY C.A.C\n",
            "/watch?v=qg082QVOZkE&pp=ygURSMOjeSB0cmFvIGNobyBhbmg%3D\n",
            "https://www.youtube.com/watch?v=qg082QVOZkE&pp=ygURSMOjeSB0cmFvIGNobyBhbmg%3D\n"
          ]
        }
      ]
    },
    {
      "cell_type": "code",
      "source": [
        "pip install openpyxl"
      ],
      "metadata": {
        "colab": {
          "base_uri": "https://localhost:8080/"
        },
        "id": "0o8u-smG7oK6",
        "outputId": "182d203a-9684-4464-9fc1-877c6cd9ac1a"
      },
      "execution_count": 7,
      "outputs": [
        {
          "output_type": "stream",
          "name": "stdout",
          "text": [
            "Looking in indexes: https://pypi.org/simple, https://us-python.pkg.dev/colab-wheels/public/simple/\n",
            "Requirement already satisfied: openpyxl in /usr/local/lib/python3.9/dist-packages (3.0.10)\n",
            "Requirement already satisfied: et-xmlfile in /usr/local/lib/python3.9/dist-packages (from openpyxl) (1.1.0)\n"
          ]
        }
      ]
    },
    {
      "cell_type": "code",
      "source": [
        "import youtube_search\n",
        "from openpyxl import Workbook\n",
        "from youtube_search import YoutubeSearch\n",
        "import webbrowser\n",
        "data = Workbook()\n",
        "sheet = data.active\n",
        "mysong = input('Xin mời chọn bài hát: ')\n",
        "result = YoutubeSearch(mysong, max_results = 10).to_dict()\n",
        "for i in range(10):\n",
        "\tprint(result[i]['title'])\n",
        "\tprint(result[i]['url_suffix'])\n",
        "\turl = 'https://www.youtube.com' + result[i]['url_suffix']\n",
        "\tprint(url)\n",
        "\tsheet['A' + str(i+1)] = i+1\n",
        "\tsheet['B' + str(i+1)] = result[i]['title']\n",
        "\tsheet['C' + str(i+1)] = result[i]['url_suffix']\n",
        "\tsheet['D' + str(i+1)] = result[i]['views']\n",
        "  sheet['E' + str(i+1)] = result[i]['duration']\n",
        "  sheet['E' + str(i+1)] = result[i]['public time']\n",
        "  \n",
        "\t#webbrowser.open(url)\n",
        "data.save('dataUTE.xlsx') # không lưu đè mỗi lần chạy phải xóa trước đó\n"
      ],
      "metadata": {
        "colab": {
          "base_uri": "https://localhost:8080/",
          "height": 130
        },
        "id": "SHDwZh7H8WbZ",
        "outputId": "ce23bf11-cf5a-4db1-ff76-275c2067f156"
      },
      "execution_count": 9,
      "outputs": [
        {
          "output_type": "error",
          "ename": "IndentationError",
          "evalue": "ignored",
          "traceback": [
            "\u001b[0;36m  File \u001b[0;32m\"<tokenize>\"\u001b[0;36m, line \u001b[0;32m18\u001b[0m\n\u001b[0;31m    sheet['E' + str(i+1)] = result[i]['duration']\u001b[0m\n\u001b[0m    ^\u001b[0m\n\u001b[0;31mIndentationError\u001b[0m\u001b[0;31m:\u001b[0m unindent does not match any outer indentation level\n"
          ]
        }
      ]
    },
    {
      "cell_type": "code",
      "source": [
        "Speech to Text\n",
        "pip install SpeechRecogition pudub\n",
        "file= ''\n",
        "import speech_recognition as sv\n",
        "v = sv.Recognizer()\n",
        "with sv.Audio File(file) as source:\n",
        "  audio_data =v.Recognizer_google(audio_data)\n",
        "  print(text)\n",
        "with test as source:\n",
        "  audio1 = v.record(source,duration = 4 )\n",
        "  audio2 = v.record()\n",
        "\n"
      ],
      "metadata": {
        "id": "rhcoNXoXieik"
      },
      "execution_count": null,
      "outputs": []
    },
    {
      "cell_type": "code",
      "source": [
        "pip install SpeechRecognition"
      ],
      "metadata": {
        "colab": {
          "base_uri": "https://localhost:8080/"
        },
        "id": "Ndj27p9fpi7L",
        "outputId": "7f997fd9-e844-47d8-f60f-a4ea3e171931"
      },
      "execution_count": 13,
      "outputs": [
        {
          "output_type": "stream",
          "name": "stdout",
          "text": [
            "Looking in indexes: https://pypi.org/simple, https://us-python.pkg.dev/colab-wheels/public/simple/\n",
            "Requirement already satisfied: SpeechRecognition in /usr/local/lib/python3.9/dist-packages (3.10.0)\n",
            "Requirement already satisfied: requests>=2.26.0 in /usr/local/lib/python3.9/dist-packages (from SpeechRecognition) (2.27.1)\n",
            "Requirement already satisfied: charset-normalizer~=2.0.0 in /usr/local/lib/python3.9/dist-packages (from requests>=2.26.0->SpeechRecognition) (2.0.12)\n",
            "Requirement already satisfied: idna<4,>=2.5 in /usr/local/lib/python3.9/dist-packages (from requests>=2.26.0->SpeechRecognition) (3.4)\n",
            "Requirement already satisfied: certifi>=2017.4.17 in /usr/local/lib/python3.9/dist-packages (from requests>=2.26.0->SpeechRecognition) (2022.12.7)\n",
            "Requirement already satisfied: urllib3<1.27,>=1.21.1 in /usr/local/lib/python3.9/dist-packages (from requests>=2.26.0->SpeechRecognition) (1.26.15)\n"
          ]
        }
      ]
    },
    {
      "cell_type": "code",
      "source": [
        "import SpeechRecognition as sr \n",
        "r = sr.Recognizer()\n",
        "with sr.AudioFile('/content/drive/MyDrive/FILE_ANH_AI/file am thanh/FiveVoiceFiveLanguage/hello-how-are-you-hi.wav') as source:\n",
        "  audio = r.record(source)\n",
        "r.Recognizer_google(audio,language ='fv_FR')"
      ],
      "metadata": {
        "colab": {
          "base_uri": "https://localhost:8080/",
          "height": 373
        },
        "id": "zRxF0o0TlZng",
        "outputId": "5b3ea37f-70a0-4a13-eb25-c19bbfab1208"
      },
      "execution_count": 15,
      "outputs": [
        {
          "output_type": "error",
          "ename": "ModuleNotFoundError",
          "evalue": "ignored",
          "traceback": [
            "\u001b[0;31m---------------------------------------------------------------------------\u001b[0m",
            "\u001b[0;31mModuleNotFoundError\u001b[0m                       Traceback (most recent call last)",
            "\u001b[0;32m<ipython-input-15-543dda06a09c>\u001b[0m in \u001b[0;36m<cell line: 1>\u001b[0;34m()\u001b[0m\n\u001b[0;32m----> 1\u001b[0;31m \u001b[0;32mimport\u001b[0m \u001b[0mSpeechRecognition\u001b[0m \u001b[0;32mas\u001b[0m \u001b[0msr\u001b[0m\u001b[0;34m\u001b[0m\u001b[0;34m\u001b[0m\u001b[0m\n\u001b[0m\u001b[1;32m      2\u001b[0m \u001b[0mr\u001b[0m \u001b[0;34m=\u001b[0m \u001b[0msr\u001b[0m\u001b[0;34m.\u001b[0m\u001b[0mRecognizer\u001b[0m\u001b[0;34m(\u001b[0m\u001b[0;34m)\u001b[0m\u001b[0;34m\u001b[0m\u001b[0;34m\u001b[0m\u001b[0m\n\u001b[1;32m      3\u001b[0m \u001b[0;32mwith\u001b[0m \u001b[0msr\u001b[0m\u001b[0;34m.\u001b[0m\u001b[0mAudioFile\u001b[0m\u001b[0;34m(\u001b[0m\u001b[0;34m'/content/drive/MyDrive/FILE_ANH_AI/file am thanh/FiveVoiceFiveLanguage/hello-how-are-you-hi.wav'\u001b[0m\u001b[0;34m)\u001b[0m \u001b[0;32mas\u001b[0m \u001b[0msource\u001b[0m\u001b[0;34m:\u001b[0m\u001b[0;34m\u001b[0m\u001b[0;34m\u001b[0m\u001b[0m\n\u001b[1;32m      4\u001b[0m   \u001b[0maudio\u001b[0m \u001b[0;34m=\u001b[0m \u001b[0mr\u001b[0m\u001b[0;34m.\u001b[0m\u001b[0mrecord\u001b[0m\u001b[0;34m(\u001b[0m\u001b[0msource\u001b[0m\u001b[0;34m)\u001b[0m\u001b[0;34m\u001b[0m\u001b[0;34m\u001b[0m\u001b[0m\n\u001b[1;32m      5\u001b[0m \u001b[0mr\u001b[0m\u001b[0;34m.\u001b[0m\u001b[0mRecognizer_google\u001b[0m\u001b[0;34m(\u001b[0m\u001b[0maudio\u001b[0m\u001b[0;34m,\u001b[0m\u001b[0mlanguage\u001b[0m \u001b[0;34m=\u001b[0m\u001b[0;34m'fv_FR'\u001b[0m\u001b[0;34m)\u001b[0m\u001b[0;34m\u001b[0m\u001b[0;34m\u001b[0m\u001b[0m\n",
            "\u001b[0;31mModuleNotFoundError\u001b[0m: No module named 'SpeechRecognition'",
            "",
            "\u001b[0;31m---------------------------------------------------------------------------\u001b[0;32m\nNOTE: If your import is failing due to a missing package, you can\nmanually install dependencies using either !pip or !apt.\n\nTo view examples of installing some common dependencies, click the\n\"Open Examples\" button below.\n\u001b[0;31m---------------------------------------------------------------------------\u001b[0m\n"
          ],
          "errorDetails": {
            "actions": [
              {
                "action": "open_url",
                "actionText": "Open Examples",
                "url": "/notebooks/snippets/importing_libraries.ipynb"
              }
            ]
          }
        }
      ]
    },
    {
      "cell_type": "code",
      "source": [
        "from google.colab import drive\n",
        "drive.mount('/content/drive')"
      ],
      "metadata": {
        "colab": {
          "base_uri": "https://localhost:8080/"
        },
        "id": "cY-Ywu5hok_F",
        "outputId": "86339c4f-aad7-43e6-df7b-23b30a4e4d2e"
      },
      "execution_count": 10,
      "outputs": [
        {
          "output_type": "stream",
          "name": "stdout",
          "text": [
            "Mounted at /content/drive\n"
          ]
        }
      ]
    },
    {
      "cell_type": "code",
      "source": [
        "pip install gTTS"
      ],
      "metadata": {
        "colab": {
          "base_uri": "https://localhost:8080/"
        },
        "id": "g3vLGTgHqD6l",
        "outputId": "679bc598-d654-4017-9b99-4d840a78849a"
      },
      "execution_count": 16,
      "outputs": [
        {
          "output_type": "stream",
          "name": "stdout",
          "text": [
            "Looking in indexes: https://pypi.org/simple, https://us-python.pkg.dev/colab-wheels/public/simple/\n",
            "Collecting gTTS\n",
            "  Downloading gTTS-2.3.1-py3-none-any.whl (28 kB)\n",
            "Requirement already satisfied: click<8.2,>=7.1 in /usr/local/lib/python3.9/dist-packages (from gTTS) (8.1.3)\n",
            "Requirement already satisfied: requests<3,>=2.27 in /usr/local/lib/python3.9/dist-packages (from gTTS) (2.27.1)\n",
            "Requirement already satisfied: charset-normalizer~=2.0.0 in /usr/local/lib/python3.9/dist-packages (from requests<3,>=2.27->gTTS) (2.0.12)\n",
            "Requirement already satisfied: urllib3<1.27,>=1.21.1 in /usr/local/lib/python3.9/dist-packages (from requests<3,>=2.27->gTTS) (1.26.15)\n",
            "Requirement already satisfied: idna<4,>=2.5 in /usr/local/lib/python3.9/dist-packages (from requests<3,>=2.27->gTTS) (3.4)\n",
            "Requirement already satisfied: certifi>=2017.4.17 in /usr/local/lib/python3.9/dist-packages (from requests<3,>=2.27->gTTS) (2022.12.7)\n",
            "Installing collected packages: gTTS\n",
            "Successfully installed gTTS-2.3.1\n"
          ]
        }
      ]
    },
    {
      "cell_type": "code",
      "source": [
        "pip install os-sys"
      ],
      "metadata": {
        "colab": {
          "base_uri": "https://localhost:8080/"
        },
        "id": "SnthT-gMsYNR",
        "outputId": "fc1bed00-b7d9-43e4-b75d-1ddc596ad095"
      },
      "execution_count": 18,
      "outputs": [
        {
          "output_type": "stream",
          "name": "stdout",
          "text": [
            "Looking in indexes: https://pypi.org/simple, https://us-python.pkg.dev/colab-wheels/public/simple/\n",
            "Collecting os-sys\n",
            "  Downloading os_sys-2.1.4-py3-none-any.whl (15.6 MB)\n",
            "\u001b[2K     \u001b[90m━━━━━━━━━━━━━━━━━━━━━━━━━━━━━━━━━━━━━━━━\u001b[0m \u001b[32m15.6/15.6 MB\u001b[0m \u001b[31m61.2 MB/s\u001b[0m eta \u001b[36m0:00:00\u001b[0m\n",
            "\u001b[?25hCollecting auto-py-to-exe\n",
            "  Downloading auto_py_to_exe-2.34.0-py2.py3-none-any.whl (178 kB)\n",
            "\u001b[2K     \u001b[90m━━━━━━━━━━━━━━━━━━━━━━━━━━━━━━━━━━━━━━\u001b[0m \u001b[32m178.6/178.6 kB\u001b[0m \u001b[31m20.5 MB/s\u001b[0m eta \u001b[36m0:00:00\u001b[0m\n",
            "\u001b[?25hCollecting cefpython3\n",
            "  Downloading cefpython3-66.0-py2.py3-none-manylinux1_x86_64.whl (79.6 MB)\n",
            "\u001b[2K     \u001b[90m━━━━━━━━━━━━━━━━━━━━━━━━━━━━━━━━━━━━━━━━\u001b[0m \u001b[32m79.6/79.6 MB\u001b[0m \u001b[31m9.3 MB/s\u001b[0m eta \u001b[36m0:00:00\u001b[0m\n",
            "\u001b[?25hCollecting pyspeedtest\n",
            "  Downloading pyspeedtest-1.2.7.tar.gz (6.8 kB)\n",
            "  Preparing metadata (setup.py) ... \u001b[?25l\u001b[?25hdone\n",
            "Requirement already satisfied: psutil in /usr/local/lib/python3.9/dist-packages (from os-sys) (5.9.5)\n",
            "Requirement already satisfied: pandas in /usr/local/lib/python3.9/dist-packages (from os-sys) (1.5.3)\n",
            "Collecting pyyaml<5.2,>=5.1\n",
            "  Downloading PyYAML-5.1.2.tar.gz (265 kB)\n",
            "\u001b[2K     \u001b[90m━━━━━━━━━━━━━━━━━━━━━━━━━━━━━━━━━━━━━━\u001b[0m \u001b[32m265.0/265.0 kB\u001b[0m \u001b[31m22.4 MB/s\u001b[0m eta \u001b[36m0:00:00\u001b[0m\n",
            "\u001b[?25h  Preparing metadata (setup.py) ... \u001b[?25l\u001b[?25hdone\n",
            "Collecting pythonGui\n",
            "  Downloading pythonGUI-0.0.2-py3-none-any.whl (23 kB)\n",
            "Collecting mysql-connector\n",
            "  Downloading mysql-connector-2.2.9.tar.gz (11.9 MB)\n",
            "\u001b[2K     \u001b[90m━━━━━━━━━━━━━━━━━━━━━━━━━━━━━━━━━━━━━━━━\u001b[0m \u001b[32m11.9/11.9 MB\u001b[0m \u001b[31m60.4 MB/s\u001b[0m eta \u001b[36m0:00:00\u001b[0m\n",
            "\u001b[?25h  Preparing metadata (setup.py) ... \u001b[?25l\u001b[?25hdone\n",
            "Collecting wmi\n",
            "  Downloading WMI-1.5.1-py2.py3-none-any.whl (28 kB)\n",
            "Requirement already satisfied: beautifulsoup4 in /usr/local/lib/python3.9/dist-packages (from os-sys) (4.11.2)\n",
            "Collecting netifaces\n",
            "  Downloading netifaces-0.11.0-cp39-cp39-manylinux_2_5_x86_64.manylinux1_x86_64.whl (32 kB)\n",
            "Collecting os-sys-php\n",
            "  Downloading os_sys_php-2019.10.13-py3-none-any.whl (38.6 MB)\n",
            "\u001b[2K     \u001b[90m━━━━━━━━━━━━━━━━━━━━━━━━━━━━━━━━━━━━━━━━\u001b[0m \u001b[32m38.6/38.6 MB\u001b[0m \u001b[31m8.4 MB/s\u001b[0m eta \u001b[36m0:00:00\u001b[0m\n",
            "\u001b[?25hRequirement already satisfied: six in /usr/local/lib/python3.9/dist-packages (from os-sys) (1.16.0)\n",
            "Collecting spacy==2.2.0\n",
            "  Downloading spacy-2.2.0.tar.gz (5.8 MB)\n",
            "\u001b[2K     \u001b[90m━━━━━━━━━━━━━━━━━━━━━━━━━━━━━━━━━━━━━━━━\u001b[0m \u001b[32m5.8/5.8 MB\u001b[0m \u001b[31m12.8 MB/s\u001b[0m eta \u001b[36m0:00:00\u001b[0m\n",
            "\u001b[?25h  Installing build dependencies ... \u001b[?25l\u001b[?25hdone\n",
            "  \u001b[1;31merror\u001b[0m: \u001b[1msubprocess-exited-with-error\u001b[0m\n",
            "  \n",
            "  \u001b[31m×\u001b[0m \u001b[32mGetting requirements to build wheel\u001b[0m did not run successfully.\n",
            "  \u001b[31m│\u001b[0m exit code: \u001b[1;36m1\u001b[0m\n",
            "  \u001b[31m╰─>\u001b[0m See above for output.\n",
            "  \n",
            "  \u001b[1;35mnote\u001b[0m: This error originates from a subprocess, and is likely not a problem with pip.\n",
            "  Getting requirements to build wheel ... \u001b[?25l\u001b[?25herror\n",
            "\u001b[1;31merror\u001b[0m: \u001b[1msubprocess-exited-with-error\u001b[0m\n",
            "\n",
            "\u001b[31m×\u001b[0m \u001b[32mGetting requirements to build wheel\u001b[0m did not run successfully.\n",
            "\u001b[31m│\u001b[0m exit code: \u001b[1;36m1\u001b[0m\n",
            "\u001b[31m╰─>\u001b[0m See above for output.\n",
            "\n",
            "\u001b[1;35mnote\u001b[0m: This error originates from a subprocess, and is likely not a problem with pip.\n"
          ]
        }
      ]
    },
    {
      "cell_type": "code",
      "source": [
        "from gtts import  gTTS \n",
        "import os\n",
        "A = 'Anh yeu em'\n",
        "speak = gTTS(text = A,lang='vi',slow= False)\n",
        "speak.save('/content/drive/MyDrive/FILE_ANH_AI/file am thanh/amThanhLamAI/amThanhCaSi/ChiecKhanTay-CamLy_6s8 (mp3cut.net).mp3')\n",
        "play.sound('/content/drive/MyDrive/FILE_ANH_AI/file am thanh/amThanhLamAI/amThanhCaSi/ChiecKhanTay-CamLy_6s8 (mp3cut.net).mp3')\n",
        "os.rewove('/content/drive/MyDrive/FILE_ANH_AI/file am thanh/amThanhLamAI/amThanhCaSi/ChiecKhanTay-CamLy_6s8 (mp3cut.net).mp3')\n",
        "print('test')\n",
        "\n"
      ],
      "metadata": {
        "colab": {
          "base_uri": "https://localhost:8080/",
          "height": 235
        },
        "id": "09T9QhhFqqQh",
        "outputId": "9f0f6f45-1f54-4072-e5e4-74b78eec0bf5"
      },
      "execution_count": 25,
      "outputs": [
        {
          "output_type": "error",
          "ename": "NameError",
          "evalue": "ignored",
          "traceback": [
            "\u001b[0;31m---------------------------------------------------------------------------\u001b[0m",
            "\u001b[0;31mNameError\u001b[0m                                 Traceback (most recent call last)",
            "\u001b[0;32m<ipython-input-25-d385c75cbb2b>\u001b[0m in \u001b[0;36m<cell line: 6>\u001b[0;34m()\u001b[0m\n\u001b[1;32m      4\u001b[0m \u001b[0mspeak\u001b[0m \u001b[0;34m=\u001b[0m \u001b[0mgTTS\u001b[0m\u001b[0;34m(\u001b[0m\u001b[0mtext\u001b[0m \u001b[0;34m=\u001b[0m \u001b[0mA\u001b[0m\u001b[0;34m,\u001b[0m\u001b[0mlang\u001b[0m\u001b[0;34m=\u001b[0m\u001b[0;34m'vi'\u001b[0m\u001b[0;34m,\u001b[0m\u001b[0mslow\u001b[0m\u001b[0;34m=\u001b[0m \u001b[0;32mFalse\u001b[0m\u001b[0;34m)\u001b[0m\u001b[0;34m\u001b[0m\u001b[0;34m\u001b[0m\u001b[0m\n\u001b[1;32m      5\u001b[0m \u001b[0mspeak\u001b[0m\u001b[0;34m.\u001b[0m\u001b[0msave\u001b[0m\u001b[0;34m(\u001b[0m\u001b[0;34m'/content/drive/MyDrive/FILE_ANH_AI/file am thanh/amThanhLamAI/amThanhCaSi/ChiecKhanTay-CamLy_6s8 (mp3cut.net).mp3'\u001b[0m\u001b[0;34m)\u001b[0m\u001b[0;34m\u001b[0m\u001b[0;34m\u001b[0m\u001b[0m\n\u001b[0;32m----> 6\u001b[0;31m \u001b[0mplay\u001b[0m\u001b[0;34m.\u001b[0m\u001b[0msound\u001b[0m\u001b[0;34m(\u001b[0m\u001b[0;34m'/content/drive/MyDrive/FILE_ANH_AI/file am thanh/amThanhLamAI/amThanhCaSi/ChiecKhanTay-CamLy_6s8 (mp3cut.net).mp3'\u001b[0m\u001b[0;34m)\u001b[0m\u001b[0;34m\u001b[0m\u001b[0;34m\u001b[0m\u001b[0m\n\u001b[0m\u001b[1;32m      7\u001b[0m \u001b[0mos\u001b[0m\u001b[0;34m.\u001b[0m\u001b[0mrewove\u001b[0m\u001b[0;34m(\u001b[0m\u001b[0;34m'/content/drive/MyDrive/FILE_ANH_AI/file am thanh/amThanhLamAI/amThanhCaSi/ChiecKhanTay-CamLy_6s8 (mp3cut.net).mp3'\u001b[0m\u001b[0;34m)\u001b[0m\u001b[0;34m\u001b[0m\u001b[0;34m\u001b[0m\u001b[0m\n\u001b[1;32m      8\u001b[0m \u001b[0mprint\u001b[0m\u001b[0;34m(\u001b[0m\u001b[0;34m'test'\u001b[0m\u001b[0;34m)\u001b[0m\u001b[0;34m\u001b[0m\u001b[0;34m\u001b[0m\u001b[0m\n",
            "\u001b[0;31mNameError\u001b[0m: name 'play' is not defined"
          ]
        }
      ]
    },
    {
      "cell_type": "code",
      "source": [
        "pip install gTTS"
      ],
      "metadata": {
        "colab": {
          "base_uri": "https://localhost:8080/"
        },
        "id": "ZGHUDP5ZusOa",
        "outputId": "97192b36-adfd-4531-aa53-d4ae881fdc44"
      },
      "execution_count": 26,
      "outputs": [
        {
          "output_type": "stream",
          "name": "stdout",
          "text": [
            "Looking in indexes: https://pypi.org/simple, https://us-python.pkg.dev/colab-wheels/public/simple/\n",
            "Requirement already satisfied: gTTS in /usr/local/lib/python3.9/dist-packages (2.3.1)\n",
            "Requirement already satisfied: requests<3,>=2.27 in /usr/local/lib/python3.9/dist-packages (from gTTS) (2.27.1)\n",
            "Requirement already satisfied: click<8.2,>=7.1 in /usr/local/lib/python3.9/dist-packages (from gTTS) (8.1.3)\n",
            "Requirement already satisfied: charset-normalizer~=2.0.0 in /usr/local/lib/python3.9/dist-packages (from requests<3,>=2.27->gTTS) (2.0.12)\n",
            "Requirement already satisfied: certifi>=2017.4.17 in /usr/local/lib/python3.9/dist-packages (from requests<3,>=2.27->gTTS) (2022.12.7)\n",
            "Requirement already satisfied: idna<4,>=2.5 in /usr/local/lib/python3.9/dist-packages (from requests<3,>=2.27->gTTS) (3.4)\n",
            "Requirement already satisfied: urllib3<1.27,>=1.21.1 in /usr/local/lib/python3.9/dist-packages (from requests<3,>=2.27->gTTS) (1.26.15)\n"
          ]
        }
      ]
    },
    {
      "cell_type": "code",
      "source": [
        "from gtts import gTTS\n",
        "import os\n",
        "A = 'Đoạn văn được dùng với ý nghĩa để chỉ sự phân đoạn nội dung, phân đoạn ý của văn bản. Một văn bản bao gồm nhiều đoạn văn: Đoạn mở đầu văn bản, những đoạn khai triển văn bản, đoạn kết thúc văn bản. Mỗi đoạn phải có sự hoàn chỉnh nhất định nào đó về mặt ý, về mặt nội dung. Nhưng thế nào là một nội dung, một ý hoàn chỉnh thì không có tiêu chí để xác định rõ ràng. Một văn bản, tuỳ theo người đọc cảm nhận mà phân chia ra thành các đoạn, sự phân chia có thể không thống nhất giữa những người đọc: có người chia theo ý lớn, có người chia theo ý nhỏ. Ý lớn là đoạn bài có hai hoặc ba ý nhỏ được khai triển từ ý lớn, bao gồm hai hoặc ba đoạn văn ngắn, mỗi đoạn ngắn đó là một ý nhỏ, các đoạn này hợp ý với nhau thành một ý lớn; ý nhỏ là ý được khai triển từ ý lớn, về mặt nội dung chỉ triển khai theo một phương diện, một hướng cụ thể, mỗi ý nhỏ là một đoạn.'\n",
        "speak = gTTS(text = A, lang = 'vi', slow = False)\n",
        "speak.save('docdoanvan.mp3')\n",
        "\n",
        "print('text')"
      ],
      "metadata": {
        "colab": {
          "base_uri": "https://localhost:8080/"
        },
        "id": "1glxqZxGu0Be",
        "outputId": "16fef1b8-78cb-4adb-9ad9-5f9323abe9eb"
      },
      "execution_count": 37,
      "outputs": [
        {
          "output_type": "stream",
          "name": "stdout",
          "text": [
            "text\n"
          ]
        }
      ]
    },
    {
      "cell_type": "code",
      "source": [
        "pip install googletrans==3.1.0a0\n"
      ],
      "metadata": {
        "colab": {
          "base_uri": "https://localhost:8080/"
        },
        "id": "jL2Gv6boyDJ5",
        "outputId": "05d6ea20-139c-44d0-e47d-de32c886f86c"
      },
      "execution_count": 43,
      "outputs": [
        {
          "output_type": "stream",
          "name": "stdout",
          "text": [
            "Looking in indexes: https://pypi.org/simple, https://us-python.pkg.dev/colab-wheels/public/simple/\n",
            "Requirement already satisfied: googletrans==3.1.0a0 in /usr/local/lib/python3.9/dist-packages (3.1.0a0)\n",
            "Requirement already satisfied: httpx==0.13.3 in /usr/local/lib/python3.9/dist-packages (from googletrans==3.1.0a0) (0.13.3)\n",
            "Requirement already satisfied: idna==2.* in /usr/local/lib/python3.9/dist-packages (from httpx==0.13.3->googletrans==3.1.0a0) (2.10)\n",
            "Requirement already satisfied: certifi in /usr/local/lib/python3.9/dist-packages (from httpx==0.13.3->googletrans==3.1.0a0) (2022.12.7)\n",
            "Requirement already satisfied: chardet==3.* in /usr/local/lib/python3.9/dist-packages (from httpx==0.13.3->googletrans==3.1.0a0) (3.0.4)\n",
            "Requirement already satisfied: httpcore==0.9.* in /usr/local/lib/python3.9/dist-packages (from httpx==0.13.3->googletrans==3.1.0a0) (0.9.1)\n",
            "Requirement already satisfied: hstspreload in /usr/local/lib/python3.9/dist-packages (from httpx==0.13.3->googletrans==3.1.0a0) (2023.1.1)\n",
            "Requirement already satisfied: sniffio in /usr/local/lib/python3.9/dist-packages (from httpx==0.13.3->googletrans==3.1.0a0) (1.3.0)\n",
            "Requirement already satisfied: rfc3986<2,>=1.3 in /usr/local/lib/python3.9/dist-packages (from httpx==0.13.3->googletrans==3.1.0a0) (1.5.0)\n",
            "Requirement already satisfied: h2==3.* in /usr/local/lib/python3.9/dist-packages (from httpcore==0.9.*->httpx==0.13.3->googletrans==3.1.0a0) (3.2.0)\n",
            "Requirement already satisfied: h11<0.10,>=0.8 in /usr/local/lib/python3.9/dist-packages (from httpcore==0.9.*->httpx==0.13.3->googletrans==3.1.0a0) (0.9.0)\n",
            "Requirement already satisfied: hyperframe<6,>=5.2.0 in /usr/local/lib/python3.9/dist-packages (from h2==3.*->httpcore==0.9.*->httpx==0.13.3->googletrans==3.1.0a0) (5.2.0)\n",
            "Requirement already satisfied: hpack<4,>=3.0 in /usr/local/lib/python3.9/dist-packages (from h2==3.*->httpcore==0.9.*->httpx==0.13.3->googletrans==3.1.0a0) (3.0.0)\n"
          ]
        }
      ]
    },
    {
      "cell_type": "code",
      "source": [
        "from googletrans import Translator \n",
        "translator = Translator()\n",
        "translation = translator.translate('Này cô bé ơi',dest='ja')\n",
        "print(translation.text)"
      ],
      "metadata": {
        "colab": {
          "base_uri": "https://localhost:8080/"
        },
        "id": "vn6hg65xy499",
        "outputId": "7377d874-9443-4fc6-b53b-b89572dd2b53"
      },
      "execution_count": 48,
      "outputs": [
        {
          "output_type": "stream",
          "name": "stdout",
          "text": [
            "ちょっと女の子\n"
          ]
        }
      ]
    },
    {
      "cell_type": "code",
      "source": [
        "import speech_recognition as sr\n",
        "from googletrans import Translator\n",
        "from gtts import gTTS\n",
        "import os\n",
        "\n",
        "file = '/content/drive/MyDrive/FILE_ANH_AI/file am thanh/FiveVoiceFiveLanguage/Wie-geht-es-dir.wav'\n",
        "\n",
        "# recognize speech from the audio file\n",
        "r = sr.Recognizer()\n",
        "with sr.AudioFile(file) as source:\n",
        "  audio_data = r.record(source)\n",
        "  text = r.recognize_google(audio_data)\n",
        "\n",
        "# translate the recognized text to Vietnamese\n",
        "translator = Translator()\n",
        "translation = translator.translate(text, dest='vi')\n",
        "translated_text = translation.text\n",
        "\n",
        "# convert the translated text to speech and save as an mp3 file\n",
        "speak = gTTS(text=translated_text, lang='vi', slow=False)\n",
        "speak.save('VD.mp3')\n",
        "print(translated_text)"
      ],
      "metadata": {
        "colab": {
          "base_uri": "https://localhost:8080/"
        },
        "id": "_5cbhQNZzA0k",
        "outputId": "4abcb333-87ed-4c74-c19c-225ea5ce07b7"
      },
      "execution_count": 49,
      "outputs": [
        {
          "output_type": "stream",
          "name": "stdout",
          "text": [
            "ra khỏi lò sưởi\n"
          ]
        }
      ]
    },
    {
      "cell_type": "code",
      "source": [
        "pip install python_speech_features==0.4"
      ],
      "metadata": {
        "id": "6Zlc-pZ98GLs",
        "outputId": "ad4268f2-b4b9-420d-d0c9-0926db6f8b7a",
        "colab": {
          "base_uri": "https://localhost:8080/"
        }
      },
      "execution_count": 56,
      "outputs": [
        {
          "output_type": "stream",
          "name": "stdout",
          "text": [
            "Looking in indexes: https://pypi.org/simple, https://us-python.pkg.dev/colab-wheels/public/simple/\n",
            "Requirement already satisfied: python_speech_features==0.4 in /usr/local/lib/python3.9/dist-packages (0.4)\n"
          ]
        }
      ]
    },
    {
      "cell_type": "code",
      "source": [
        "#MFCC\n",
        "import numpy as np \n",
        "import matplotlib.pyplot as plt\n",
        "from scipy.io import wavfile\n",
        "from python_speech_features import  mfcc,logtbank \n",
        "frequency_sample,audio_signal = wavfile.read('')\n",
        "audio_signal = audio_signal[:1500]\n",
        "feature_mfcc = mfcc(audio_signal,frequency_sample)\n",
        "print('\\nMFCC:\\n Number of windows = ',feature_mfcc.shape[0])\n",
        "print('Length of each feature:',feature_mfcc.shape[1])\n",
        "feature_mfcc = feature_mfcc.T\n",
        "plt.matshow(feature_mfcc)\n",
        "plt.title('MFCC')\n",
        "\n",
        "\n",
        "\n"
      ],
      "metadata": {
        "id": "EsLzRCFF4wkd",
        "outputId": "4a4d76dc-0b98-40e8-ec5e-a0cf624b6e11",
        "colab": {
          "base_uri": "https://localhost:8080/",
          "height": 373
        }
      },
      "execution_count": 58,
      "outputs": [
        {
          "output_type": "error",
          "ename": "ImportError",
          "evalue": "ignored",
          "traceback": [
            "\u001b[0;31m---------------------------------------------------------------------------\u001b[0m",
            "\u001b[0;31mImportError\u001b[0m                               Traceback (most recent call last)",
            "\u001b[0;32m<ipython-input-58-9c486511fccb>\u001b[0m in \u001b[0;36m<cell line: 5>\u001b[0;34m()\u001b[0m\n\u001b[1;32m      3\u001b[0m \u001b[0;32mimport\u001b[0m \u001b[0mmatplotlib\u001b[0m\u001b[0;34m.\u001b[0m\u001b[0mpyplot\u001b[0m \u001b[0;32mas\u001b[0m \u001b[0mplt\u001b[0m\u001b[0;34m\u001b[0m\u001b[0;34m\u001b[0m\u001b[0m\n\u001b[1;32m      4\u001b[0m \u001b[0;32mfrom\u001b[0m \u001b[0mscipy\u001b[0m\u001b[0;34m.\u001b[0m\u001b[0mio\u001b[0m \u001b[0;32mimport\u001b[0m \u001b[0mwavfile\u001b[0m\u001b[0;34m\u001b[0m\u001b[0;34m\u001b[0m\u001b[0m\n\u001b[0;32m----> 5\u001b[0;31m \u001b[0;32mfrom\u001b[0m \u001b[0mpython_speech_features\u001b[0m \u001b[0;32mimport\u001b[0m  \u001b[0mmfcc\u001b[0m\u001b[0;34m,\u001b[0m\u001b[0mlogtbank\u001b[0m\u001b[0;34m\u001b[0m\u001b[0;34m\u001b[0m\u001b[0m\n\u001b[0m\u001b[1;32m      6\u001b[0m \u001b[0mfrequency_sample\u001b[0m\u001b[0;34m,\u001b[0m\u001b[0maudio_signal\u001b[0m \u001b[0;34m=\u001b[0m \u001b[0mwavfile\u001b[0m\u001b[0;34m.\u001b[0m\u001b[0mread\u001b[0m\u001b[0;34m(\u001b[0m\u001b[0;34m''\u001b[0m\u001b[0;34m)\u001b[0m\u001b[0;34m\u001b[0m\u001b[0;34m\u001b[0m\u001b[0m\n\u001b[1;32m      7\u001b[0m \u001b[0maudio_signal\u001b[0m \u001b[0;34m=\u001b[0m \u001b[0maudio_signal\u001b[0m\u001b[0;34m[\u001b[0m\u001b[0;34m:\u001b[0m\u001b[0;36m1500\u001b[0m\u001b[0;34m]\u001b[0m\u001b[0;34m\u001b[0m\u001b[0;34m\u001b[0m\u001b[0m\n",
            "\u001b[0;31mImportError\u001b[0m: cannot import name 'logtbank' from 'python_speech_features' (/usr/local/lib/python3.9/dist-packages/python_speech_features/__init__.py)",
            "",
            "\u001b[0;31m---------------------------------------------------------------------------\u001b[0;32m\nNOTE: If your import is failing due to a missing package, you can\nmanually install dependencies using either !pip or !apt.\n\nTo view examples of installing some common dependencies, click the\n\"Open Examples\" button below.\n\u001b[0;31m---------------------------------------------------------------------------\u001b[0m\n"
          ],
          "errorDetails": {
            "actions": [
              {
                "action": "open_url",
                "actionText": "Open Examples",
                "url": "/notebooks/snippets/importing_libraries.ipynb"
              }
            ]
          }
        }
      ]
    },
    {
      "cell_type": "code",
      "source": [
        "filterbank_feature = logfbank(audio_signal,frequency_sample)\n",
        "print('\\n Filter bank: \\n NUmber of windows= ',filterbank_feature.shape[0])\n",
        "print('Length of each feature ')"
      ],
      "metadata": {
        "id": "FomOMkGZ86H1"
      },
      "execution_count": null,
      "outputs": []
    }
  ]
}