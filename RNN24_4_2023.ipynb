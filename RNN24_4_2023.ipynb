{
  "nbformat": 4,
  "nbformat_minor": 0,
  "metadata": {
    "colab": {
      "provenance": [],
      "include_colab_link": true
    },
    "kernelspec": {
      "name": "python3",
      "display_name": "Python 3"
    },
    "language_info": {
      "name": "python"
    }
  },
  "cells": [
    {
      "cell_type": "markdown",
      "metadata": {
        "id": "view-in-github",
        "colab_type": "text"
      },
      "source": [
        "<a href=\"https://colab.research.google.com/github/NguyenthanhTung14/Nguy-nThanhT-ng/blob/main/RNN24_4_2023.ipynb\" target=\"_parent\"><img src=\"https://colab.research.google.com/assets/colab-badge.svg\" alt=\"Open In Colab\"/></a>"
      ]
    },
    {
      "cell_type": "code",
      "execution_count": 1,
      "metadata": {
        "id": "JfC2jlUO2sVq",
        "outputId": "1968a39b-3460-4f49-94ca-0b9a1d595d33",
        "colab": {
          "base_uri": "https://localhost:8080/",
          "height": 53
        }
      },
      "outputs": [
        {
          "output_type": "execute_result",
          "data": {
            "text/plain": [
              "' Reecurrent Neural Network Natural Language Processing\\n- Chatbox: GPT, Siri,..\\n- Autocomplet in Search Engines\\n- Voice Assistance\\n- Language Translator\\n- Sentiment Analysis\\n- Grammar checker\\n- Email classification and filtering\\n- Healthcare\\n- Finance\\n- Education\\n- Business\\n- Data analysis\\n'"
            ],
            "application/vnd.google.colaboratory.intrinsic+json": {
              "type": "string"
            }
          },
          "metadata": {},
          "execution_count": 1
        }
      ],
      "source": [
        "''' Reecurrent Neural Network Natural Language Processing\n",
        "- Chatbox: GPT, Siri,..\n",
        "- Autocomplet in Search Engines\n",
        "- Voice Assistance\n",
        "- Language Translator\n",
        "- Sentiment Analysis\n",
        "- Grammar checker\n",
        "- Email classification and filtering\n",
        "- Healthcare\n",
        "- Finance\n",
        "- Education\n",
        "- Business\n",
        "- Data analysis\n",
        "'''"
      ]
    },
    {
      "cell_type": "code",
      "source": [
        "pip install youtube-search"
      ],
      "metadata": {
        "colab": {
          "base_uri": "https://localhost:8080/"
        },
        "id": "TZfuK6LO6c03",
        "outputId": "dda6902e-7899-4ddc-9b73-d12074b5bce2"
      },
      "execution_count": null,
      "outputs": [
        {
          "output_type": "stream",
          "name": "stdout",
          "text": [
            "Looking in indexes: https://pypi.org/simple, https://us-python.pkg.dev/colab-wheels/public/simple/\n",
            "Collecting youtube-search\n",
            "  Downloading youtube_search-2.1.2-py3-none-any.whl (3.4 kB)\n",
            "Requirement already satisfied: requests in /usr/local/lib/python3.9/dist-packages (from youtube-search) (2.27.1)\n",
            "Requirement already satisfied: charset-normalizer~=2.0.0 in /usr/local/lib/python3.9/dist-packages (from requests->youtube-search) (2.0.12)\n",
            "Requirement already satisfied: idna<4,>=2.5 in /usr/local/lib/python3.9/dist-packages (from requests->youtube-search) (3.4)\n",
            "Requirement already satisfied: urllib3<1.27,>=1.21.1 in /usr/local/lib/python3.9/dist-packages (from requests->youtube-search) (1.26.15)\n",
            "Requirement already satisfied: certifi>=2017.4.17 in /usr/local/lib/python3.9/dist-packages (from requests->youtube-search) (2022.12.7)\n",
            "Installing collected packages: youtube-search\n",
            "Successfully installed youtube-search-2.1.2\n"
          ]
        }
      ]
    },
    {
      "cell_type": "code",
      "source": [
        "from youtube_search import YoutubeSearch\n",
        "import webbrowser\n",
        "from openpyxl import Workbook\n",
        "data = Workbook()\n",
        "sheet = data.active\n",
        "mysong = input('Xin mời bạn chọn tên bài hát: ')\n",
        "print(mysong)\n",
        "result = YoutubeSearch(mysong, max_results = 10).to_dict()\n",
        "print(result)"
      ],
      "metadata": {
        "colab": {
          "base_uri": "https://localhost:8080/"
        },
        "id": "THwVZYSO43LO",
        "outputId": "f75aabfc-0e07-4e6f-e83a-7c23bbad9269"
      },
      "execution_count": null,
      "outputs": [
        {
          "output_type": "stream",
          "name": "stdout",
          "text": [
            "Xin mời bạn chọn tên bài hát: Hãy trao cho anh\n",
            "Hãy trao cho anh\n",
            "[{'id': 'knW7-x7Y7RE', 'thumbnails': ['https://i.ytimg.com/vi/knW7-x7Y7RE/hq720.jpg?sqp=-oaymwEjCOgCEMoBSFryq4qpAxUIARUAAAAAGAElAADIQj0AgKJDeAE=&rs=AOn4CLCJNTG3j80PndCirit6C4UU1utJEQ', 'https://i.ytimg.com/vi/knW7-x7Y7RE/hq720.jpg?sqp=-oaymwEXCNAFEJQDSFryq4qpAwkIARUAAIhCGAE=&rs=AOn4CLAC5BmtquQ3CbPTUUhrV5wG00weqQ'], 'title': 'SƠN TÙNG M-TP | HÃY TRAO CHO ANH ft. Snoop Dogg | Official MV', 'long_desc': None, 'channel': 'Sơn Tùng M-TP Official', 'duration': '4:23', 'views': '觀看次數：266,944,138次', 'publish_time': '3 年前', 'url_suffix': '/watch?v=knW7-x7Y7RE&pp=ygURSMOjeSB0cmFvIGNobyBhbmg%3D'}, {'id': 'ybK7f46KNoY', 'thumbnails': ['https://i.ytimg.com/vi/ybK7f46KNoY/hq720.jpg?sqp=-oaymwE9COgCEMoBSFryq4qpAy8IARUAAAAAGAElAADIQj0AgKJDeAHwAQH4Af4JgALQBYoCDAgAEAEYNiBQKH8wDw==&rs=AOn4CLCVzI3q2NK5v7YlJE7MzCEC0ybwCw', 'https://i.ytimg.com/vi/ybK7f46KNoY/hq720.jpg?sqp=-oaymwExCNAFEJQDSFryq4qpAyMIARUAAIhCGAHwAQH4Af4JgALQBYoCDAgAEAEYNiBQKH8wDw==&rs=AOn4CLCRARm0l91ENErDRJpV_cNM3ljd6Q'], 'title': 'Sơn Tùng MTP Live Hãy Trao Cho Anh in IVY MODA 5/10/2019', 'long_desc': None, 'channel': 'Đỗ Việt Chinh', 'duration': '5:09', 'views': '觀看次數：609,561次', 'publish_time': '3 年前', 'url_suffix': '/watch?v=ybK7f46KNoY&pp=ygURSMOjeSB0cmFvIGNobyBhbmg%3D'}, {'id': 'c0ZTFp5fqZY', 'thumbnails': ['https://i.ytimg.com/vi/c0ZTFp5fqZY/hq720.jpg?sqp=-oaymwEjCOgCEMoBSFryq4qpAxUIARUAAAAAGAElAADIQj0AgKJDeAE=&rs=AOn4CLAmN6wTEY7jbCOUMj588q1qleVqoA', 'https://i.ytimg.com/vi/c0ZTFp5fqZY/hq720.jpg?sqp=-oaymwEXCNAFEJQDSFryq4qpAwkIARUAAIhCGAE=&rs=AOn4CLDTw2bgU86K_qCy614g0dUojj57Ng'], 'title': 'Hãy Trao Cho Anh Remix,Tránh Duyên Htrol Remix Top EDM | Tik Tok Remix 2019 Nhẹ Nhàng Gây Nghiện', 'long_desc': None, 'channel': 'BD Media Music', 'duration': '1:13:46', 'views': '觀看次數：801,650次', 'publish_time': '3 年前', 'url_suffix': '/watch?v=c0ZTFp5fqZY&pp=ygURSMOjeSB0cmFvIGNobyBhbmg%3D'}, {'id': 'a7ZoilLl7bU', 'thumbnails': ['https://i.ytimg.com/vi/a7ZoilLl7bU/hq720.jpg?sqp=-oaymwEjCOgCEMoBSFryq4qpAxUIARUAAAAAGAElAADIQj0AgKJDeAE=&rs=AOn4CLDBcMlrBkYkCGF9ejiT2UjEq4HPkg', 'https://i.ytimg.com/vi/a7ZoilLl7bU/hq720.jpg?sqp=-oaymwEXCNAFEJQDSFryq4qpAwkIARUAAIhCGAE=&rs=AOn4CLD1E9jUKnAi-sBWisFxd11o_M3UfQ'], 'title': 'Hoa Nở Không Màu..Tình Anh Remix ♫ EDM TikTok Hay 2023 ♫ Nhạc Trẻ Remix Hay Nhất Hiện Nay', 'long_desc': None, 'channel': 'Trend EDM', 'duration': 0, 'views': 0, 'publish_time': 0, 'url_suffix': '/watch?v=a7ZoilLl7bU&pp=ygURSMOjeSB0cmFvIGNobyBhbmg%3D'}, {'id': 'CLgkRIeQPVw', 'thumbnails': ['https://i.ytimg.com/vi/CLgkRIeQPVw/hq720.jpg?sqp=-oaymwEjCOgCEMoBSFryq4qpAxUIARUAAAAAGAElAADIQj0AgKJDeAE=&rs=AOn4CLDWiEXXZ5VRJxDc5kJZhNtMRUI6NA', 'https://i.ytimg.com/vi/CLgkRIeQPVw/hq720.jpg?sqp=-oaymwEXCNAFEJQDSFryq4qpAwkIARUAAIhCGAE=&rs=AOn4CLC08p4pnWyJtMdKwCMq-FXf1b3j3g'], 'title': 'HÃY TRAO CHO ANH MTP ft. Snoop Dogg 1 hour', 'long_desc': None, 'channel': 'An Nguyen', 'duration': '1:01:51', 'views': '觀看次數：40,262次', 'publish_time': '3 年前', 'url_suffix': '/watch?v=CLgkRIeQPVw&pp=ygURSMOjeSB0cmFvIGNobyBhbmg%3D'}, {'id': 'f3mfQQh1h5o', 'thumbnails': ['https://i.ytimg.com/vi/f3mfQQh1h5o/hq720.jpg?sqp=-oaymwE9COgCEMoBSFryq4qpAy8IARUAAAAAGAElAADIQj0AgKJDeAHwAQH4Af4JgALQBYoCDAgAEAEYWiATKH8wDw==&rs=AOn4CLDVXo3TUXTY2DdSjPezNqi63y4mqg', 'https://i.ytimg.com/vi/f3mfQQh1h5o/hq720.jpg?sqp=-oaymwExCNAFEJQDSFryq4qpAyMIARUAAIhCGAHwAQH4Af4JgALQBYoCDAgAEAEYWiATKH8wDw==&rs=AOn4CLAejfzDeGYvgknf86vZtXjx3iJSYw'], 'title': '(DEMO) HoangMP Mix | Happy New Year 2023 | Hãy Trao Cho Ah x Waiting Fof You | Vmix.Vbass (NhàLàm)', 'long_desc': None, 'channel': 'MEDIA_MusicPro', 'duration': '1:58:29', 'views': '觀看次數：259,088次', 'publish_time': '3 個月前', 'url_suffix': '/watch?v=f3mfQQh1h5o&pp=ygURSMOjeSB0cmFvIGNobyBhbmg%3D'}, {'id': 'wOu48aj0TaA', 'thumbnails': ['https://i.ytimg.com/vi/wOu48aj0TaA/hq720.jpg?sqp=-oaymwEjCOgCEMoBSFryq4qpAxUIARUAAAAAGAElAADIQj0AgKJDeAE=&rs=AOn4CLASAhcoFn5FyidUUpMYA_dQfFblbQ', 'https://i.ytimg.com/vi/wOu48aj0TaA/hq720.jpg?sqp=-oaymwEXCNAFEJQDSFryq4qpAwkIARUAAIhCGAE=&rs=AOn4CLDLxUnxCTC-DBm0omyCgeRChl3PbA'], 'title': 'SƠN TÙNG M-TP | HÃY TRAO CHO ANH | RAP VERSION VIETNAM [ REMAKE ] | OFFICIAL | MUSIC', 'long_desc': None, 'channel': 'KICK DIZZ', 'duration': '4:06', 'views': '觀看次數：338,225次', 'publish_time': '3 年前', 'url_suffix': '/watch?v=wOu48aj0TaA&pp=ygURSMOjeSB0cmFvIGNobyBhbmg%3D'}, {'id': 'Mt4rU6SldBk', 'thumbnails': ['https://i.ytimg.com/vi/Mt4rU6SldBk/hq720.jpg?sqp=-oaymwE9COgCEMoBSFryq4qpAy8IARUAAAAAGAElAADIQj0AgKJDeAHwAQH4Af4JgALQBYoCDAgAEAEYZSBbKE4wDw==&rs=AOn4CLCVeNKEioGbM74xaUE9FazKymS7Lg', 'https://i.ytimg.com/vi/Mt4rU6SldBk/hq720.jpg?sqp=-oaymwExCNAFEJQDSFryq4qpAyMIARUAAIhCGAHwAQH4Af4JgALQBYoCDAgAEAEYZSBbKE4wDw==&rs=AOn4CLCyXrnaMxVSOOFC1V040dld5vDY-g'], 'title': 'Hãy Trao Cho Anh - Thereon Remix | Em Cho Ta Ngắm Thiên Đàng Vội Vàng Qua Chốc Lát Remix Xu Hướng', 'long_desc': None, 'channel': 'NGUYỄN MUSIC', 'duration': '5:52', 'views': '觀看次數：300,332次', 'publish_time': '1 個月前', 'url_suffix': '/watch?v=Mt4rU6SldBk&pp=ygURSMOjeSB0cmFvIGNobyBhbmg%3D'}, {'id': 'qg082QVOZkE', 'thumbnails': ['https://i.ytimg.com/vi/qg082QVOZkE/hq720.jpg?sqp=-oaymwEjCOgCEMoBSFryq4qpAxUIARUAAAAAGAElAADIQj0AgKJDeAE=&rs=AOn4CLBf-P0Oh0Ok-RNrKeHpkruRLuijng', 'https://i.ytimg.com/vi/qg082QVOZkE/hq720.jpg?sqp=-oaymwEXCNAFEJQDSFryq4qpAwkIARUAAIhCGAE=&rs=AOn4CLApigw0XHmIRA9IXpCOKO8YxMPyOQ'], 'title': '[HỌC SINH NHẢY CỰC MÁU TRÊN PHỐ ĐI BỘ] HÃY TRAO CHO ANH| SƠN TÙNG M-TP ft Snoop Dogg DANCE BY C.A.C', 'long_desc': None, 'channel': 'CAC Official', 'duration': '3:24', 'views': '觀看次數：27,075,417次', 'publish_time': '3 年前', 'url_suffix': '/watch?v=qg082QVOZkE&pp=ygURSMOjeSB0cmFvIGNobyBhbmg%3D'}, {'id': 'cw6xF75omrI', 'thumbnails': ['https://i.ytimg.com/vi/cw6xF75omrI/hq720.jpg?sqp=-oaymwEjCOgCEMoBSFryq4qpAxUIARUAAAAAGAElAADIQj0AgKJDeAE=&rs=AOn4CLAzNAyUCKsCJWqPoDETvuEdvxodJw', 'https://i.ytimg.com/vi/cw6xF75omrI/hq720.jpg?sqp=-oaymwEXCNAFEJQDSFryq4qpAwkIARUAAIhCGAE=&rs=AOn4CLD8x_kCO6m66u1ErkOChtYZgaZnHQ'], 'title': 'NONSTOP Vinahouse 2019 | Hãy Trao Cho Anh Remix Vocal Nữ (Full Rap Version) | Track Thái Hoàng Vol 9', 'long_desc': None, 'channel': 'Nhạc DJ vn', 'duration': '54:33', 'views': '觀看次數：459,404次', 'publish_time': '3 年前', 'url_suffix': '/watch?v=cw6xF75omrI&pp=ygURSMOjeSB0cmFvIGNobyBhbmg%3D'}]\n"
          ]
        }
      ]
    },
    {
      "cell_type": "code",
      "source": [
        "# In 1 cái đầu tiên khi search\n",
        "print(result[0]['title'])\n",
        "print(result[0]['url_suffix'])\n",
        "url = 'https://www.youtube.com' + result[0]['url_suffix']\n",
        "print(url)\n",
        "webbrowser.open(url)"
      ],
      "metadata": {
        "colab": {
          "base_uri": "https://localhost:8080/"
        },
        "id": "9wBeAgwb7GtJ",
        "outputId": "62bbbef9-77be-43e0-e90c-9757efdfce05"
      },
      "execution_count": null,
      "outputs": [
        {
          "output_type": "stream",
          "name": "stdout",
          "text": [
            "SƠN TÙNG M-TP | HÃY TRAO CHO ANH ft. Snoop Dogg | Official MV\n",
            "/watch?v=knW7-x7Y7RE&pp=ygURSMOjeSB0cmFvIGNobyBhbmg%3D\n",
            "https://www.youtube.com/watch?v=knW7-x7Y7RE&pp=ygURSMOjeSB0cmFvIGNobyBhbmg%3D\n"
          ]
        },
        {
          "output_type": "execute_result",
          "data": {
            "text/plain": [
              "False"
            ]
          },
          "metadata": {},
          "execution_count": 9
        }
      ]
    },
    {
      "cell_type": "code",
      "source": [
        "# In 10 cái đầu tiên khi search\n",
        "for i in range(10):\n",
        "\tprint(result[i]['title'])\n",
        "\tprint(result[i]['url_suffix'])\n",
        "\turl = 'https://www.youtube.com' + result[i]['url_suffix']\n",
        "\tprint(url)\n",
        "\tsheet['A' + str(i+1)] = i+1\n",
        "\tsheet['B' + str(i+1)] = result[i]['title']\n",
        "\tsheet['C' + str(i+1)] = result[i]['url_suffix']\n",
        "\tsheet['D' + str(i+1)] = result[i]['views']\n",
        "\t#webbrowser.open(url)\n",
        "data.save('UTE.xlsx')"
      ],
      "metadata": {
        "colab": {
          "base_uri": "https://localhost:8080/"
        },
        "id": "pXQx4zQF6ttY",
        "outputId": "e169debf-cb71-4eb4-c3b6-62453192d449"
      },
      "execution_count": null,
      "outputs": [
        {
          "output_type": "stream",
          "name": "stdout",
          "text": [
            "SƠN TÙNG M-TP | HÃY TRAO CHO ANH ft. Snoop Dogg | Official MV\n",
            "/watch?v=knW7-x7Y7RE&pp=ygURSMOjeSB0cmFvIGNobyBhbmg%3D\n",
            "https://www.youtube.com/watch?v=knW7-x7Y7RE&pp=ygURSMOjeSB0cmFvIGNobyBhbmg%3D\n",
            "Sơn Tùng MTP Live Hãy Trao Cho Anh in IVY MODA 5/10/2019\n",
            "/watch?v=ybK7f46KNoY&pp=ygURSMOjeSB0cmFvIGNobyBhbmg%3D\n",
            "https://www.youtube.com/watch?v=ybK7f46KNoY&pp=ygURSMOjeSB0cmFvIGNobyBhbmg%3D\n",
            "Hãy Trao Cho Anh Remix,Tránh Duyên Htrol Remix Top EDM | Tik Tok Remix 2019 Nhẹ Nhàng Gây Nghiện\n",
            "/watch?v=c0ZTFp5fqZY&pp=ygURSMOjeSB0cmFvIGNobyBhbmg%3D\n",
            "https://www.youtube.com/watch?v=c0ZTFp5fqZY&pp=ygURSMOjeSB0cmFvIGNobyBhbmg%3D\n",
            "Hoa Nở Không Màu..Tình Anh Remix ♫ EDM TikTok Hay 2023 ♫ Nhạc Trẻ Remix Hay Nhất Hiện Nay\n",
            "/watch?v=a7ZoilLl7bU&pp=ygURSMOjeSB0cmFvIGNobyBhbmg%3D\n",
            "https://www.youtube.com/watch?v=a7ZoilLl7bU&pp=ygURSMOjeSB0cmFvIGNobyBhbmg%3D\n",
            "HÃY TRAO CHO ANH MTP ft. Snoop Dogg 1 hour\n",
            "/watch?v=CLgkRIeQPVw&pp=ygURSMOjeSB0cmFvIGNobyBhbmg%3D\n",
            "https://www.youtube.com/watch?v=CLgkRIeQPVw&pp=ygURSMOjeSB0cmFvIGNobyBhbmg%3D\n",
            "(DEMO) HoangMP Mix | Happy New Year 2023 | Hãy Trao Cho Ah x Waiting Fof You | Vmix.Vbass (NhàLàm)\n",
            "/watch?v=f3mfQQh1h5o&pp=ygURSMOjeSB0cmFvIGNobyBhbmg%3D\n",
            "https://www.youtube.com/watch?v=f3mfQQh1h5o&pp=ygURSMOjeSB0cmFvIGNobyBhbmg%3D\n",
            "SƠN TÙNG M-TP | HÃY TRAO CHO ANH | RAP VERSION VIETNAM [ REMAKE ] | OFFICIAL | MUSIC\n",
            "/watch?v=wOu48aj0TaA&pp=ygURSMOjeSB0cmFvIGNobyBhbmg%3D\n",
            "https://www.youtube.com/watch?v=wOu48aj0TaA&pp=ygURSMOjeSB0cmFvIGNobyBhbmg%3D\n",
            "Hãy Trao Cho Anh - Thereon Remix | Em Cho Ta Ngắm Thiên Đàng Vội Vàng Qua Chốc Lát Remix Xu Hướng\n",
            "/watch?v=Mt4rU6SldBk&pp=ygURSMOjeSB0cmFvIGNobyBhbmg%3D\n",
            "https://www.youtube.com/watch?v=Mt4rU6SldBk&pp=ygURSMOjeSB0cmFvIGNobyBhbmg%3D\n",
            "[HỌC SINH NHẢY CỰC MÁU TRÊN PHỐ ĐI BỘ] HÃY TRAO CHO ANH| SƠN TÙNG M-TP ft Snoop Dogg DANCE BY C.A.C\n",
            "/watch?v=qg082QVOZkE&pp=ygURSMOjeSB0cmFvIGNobyBhbmg%3D\n",
            "https://www.youtube.com/watch?v=qg082QVOZkE&pp=ygURSMOjeSB0cmFvIGNobyBhbmg%3D\n",
            "NONSTOP Vinahouse 2019 | Hãy Trao Cho Anh Remix Vocal Nữ (Full Rap Version) | Track Thái Hoàng Vol 9\n",
            "/watch?v=cw6xF75omrI&pp=ygURSMOjeSB0cmFvIGNobyBhbmg%3D\n",
            "https://www.youtube.com/watch?v=cw6xF75omrI&pp=ygURSMOjeSB0cmFvIGNobyBhbmg%3D\n"
          ]
        }
      ]
    },
    {
      "cell_type": "code",
      "source": [
        "pip install openpyxl"
      ],
      "metadata": {
        "colab": {
          "base_uri": "https://localhost:8080/"
        },
        "id": "0o8u-smG7oK6",
        "outputId": "2eb4c988-e896-45c4-9d89-f53eebf6c1d5"
      },
      "execution_count": null,
      "outputs": [
        {
          "output_type": "stream",
          "name": "stdout",
          "text": [
            "Looking in indexes: https://pypi.org/simple, https://us-python.pkg.dev/colab-wheels/public/simple/\n",
            "Requirement already satisfied: openpyxl in /usr/local/lib/python3.9/dist-packages (3.0.10)\n",
            "Requirement already satisfied: et-xmlfile in /usr/local/lib/python3.9/dist-packages (from openpyxl) (1.1.0)\n"
          ]
        }
      ]
    },
    {
      "cell_type": "code",
      "source": [
        "import youtube_search\n",
        "from openpyxl import Workbook\n",
        "from youtube_search import YoutubeSearch\n",
        "import webbrowser\n",
        "data = Workbook()\n",
        "sheet = data.active\n",
        "mysong = input('Xin mời chọn bài hát: ')\n",
        "result = YoutubeSearch(mysong, max_results = 10).to_dict()\n",
        "for i in range(10):\n",
        "\tprint(result[i]['title'])\n",
        "\tprint(result[i]['url_suffix'])\n",
        "\turl = 'https://www.youtube.com' + result[i]['url_suffix']\n",
        "\tprint(url)\n",
        "\tsheet['A' + str(i+1)] = i+1\n",
        "\tsheet['B' + str(i+1)] = result[i]['title']\n",
        "\tsheet['C' + str(i+1)] = result[i]['url_suffix']\n",
        "\tsheet['D' + str(i+1)] = result[i]['views']\n",
        "  sheet['E' + str(i+1)] = result[i]['duration']\n",
        "  sheet['E' + str(i+1)] = result[i]['public time']\n",
        "  \n",
        "\t#webbrowser.open(url)\n",
        "data.save('dataUTE.xlsx') # không lưu đè mỗi lần chạy phải xóa trước đó\n"
      ],
      "metadata": {
        "colab": {
          "base_uri": "https://localhost:8080/"
        },
        "id": "SHDwZh7H8WbZ",
        "outputId": "8824e9a2-3bef-498e-ae7a-4541b87ea9ac"
      },
      "execution_count": null,
      "outputs": [
        {
          "output_type": "stream",
          "name": "stdout",
          "text": [
            "Xin mời chọn bài hát: despasito\n",
            "Luis Fonsi - Despacito ft. Daddy Yankee\n",
            "/watch?v=kJQP7kiw5Fk&pp=ygUJZGVzcGFzaXRv\n",
            "https://www.youtube.com/watch?v=kJQP7kiw5Fk&pp=ygUJZGVzcGFzaXRv\n",
            "Despacito 原版中文歌詞 Luis Fonsi (附西班牙文歌詞)\n",
            "/watch?v=NNKf9DM1e_A&pp=ygUJZGVzcGFzaXRv\n",
            "https://www.youtube.com/watch?v=NNKf9DM1e_A&pp=ygUJZGVzcGFzaXRv\n",
            "Luis Fonsi feat. Daddy Yankee - Despacito (Official Video HD)\n",
            "/watch?v=rGnt4lIUZIc&pp=ygUJZGVzcGFzaXRv\n",
            "https://www.youtube.com/watch?v=rGnt4lIUZIc&pp=ygUJZGVzcGFzaXRv\n",
            "Luis Fonsi 路易斯・馮西 - Despacito 慢慢地 ( J.Fla 翻唱 )\n",
            "/watch?v=4bmUFRxNEIg&pp=ygUJZGVzcGFzaXRv\n",
            "https://www.youtube.com/watch?v=4bmUFRxNEIg&pp=ygUJZGVzcGFzaXRv\n",
            "【ㄇㄇ樣】空耳歌詞－慢慢來｜Despacito｜馬上學會第一首西班牙語歌！\n",
            "/watch?v=SOhWknul034&pp=ygUJZGVzcGFzaXRv\n",
            "https://www.youtube.com/watch?v=SOhWknul034&pp=ygUJZGVzcGFzaXRv\n",
            "Luis Fonsi, Daddy Yankee - Despacito (Audio) ft. Justin Bieber\n",
            "/watch?v=72UO0v5ESUo&pp=ygUJZGVzcGFzaXRv\n",
            "https://www.youtube.com/watch?v=72UO0v5ESUo&pp=ygUJZGVzcGFzaXRv\n",
            "Luis Fonsi - Despacito 緩緩 (Mandarin Version) (Official Audio) ft. JJ Lin\n",
            "/watch?v=Dlbg7onYu08&pp=ygUJZGVzcGFzaXRv\n",
            "https://www.youtube.com/watch?v=Dlbg7onYu08&pp=ygUJZGVzcGFzaXRv\n",
            "Luis Fonsi feat. Daddy Yankee - Despacito (Official Video HD)\n",
            "/watch?v=yt7Pu0qdK8U&pp=ygUJZGVzcGFzaXRv\n",
            "https://www.youtube.com/watch?v=yt7Pu0qdK8U&pp=ygUJZGVzcGFzaXRv\n",
            "Luis Fonsi - Despacito (Letra / Lyrics) ft. Daddy Yankee\n",
            "/watch?v=tQDV9WzHcds&pp=ygUJZGVzcGFzaXRv\n",
            "https://www.youtube.com/watch?v=tQDV9WzHcds&pp=ygUJZGVzcGFzaXRv\n",
            "一個休學、一個被槍擊才誕生「Despacito」？在獲得到全球成功後，兩位歌手現在在做甚麼？｜Despacito｜OMIO_BEN\n",
            "/watch?v=KOxOzMmRwkE&pp=ygUJZGVzcGFzaXRv\n",
            "https://www.youtube.com/watch?v=KOxOzMmRwkE&pp=ygUJZGVzcGFzaXRv\n"
          ]
        }
      ]
    }
  ]
}