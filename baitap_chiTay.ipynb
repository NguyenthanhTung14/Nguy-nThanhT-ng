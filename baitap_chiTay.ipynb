{
  "nbformat": 4,
  "nbformat_minor": 0,
  "metadata": {
    "colab": {
      "provenance": [],
      "include_colab_link": true
    },
    "kernelspec": {
      "name": "python3",
      "display_name": "Python 3"
    },
    "language_info": {
      "name": "python"
    },
    "gpuClass": "standard",
    "accelerator": "GPU"
  },
  "cells": [
    {
      "cell_type": "markdown",
      "metadata": {
        "id": "view-in-github",
        "colab_type": "text"
      },
      "source": [
        "<a href=\"https://colab.research.google.com/github/NguyenthanhTung14/Nguy-nThanhT-ng/blob/main/baitap_chiTay.ipynb\" target=\"_parent\"><img src=\"https://colab.research.google.com/assets/colab-badge.svg\" alt=\"Open In Colab\"/></a>"
      ]
    },
    {
      "cell_type": "code",
      "source": [
        "from os import listdir\n",
        "from numpy import asarray, save\n",
        "from keras.utils import load_img\n",
        "from keras.utils import img_to_array"
      ],
      "metadata": {
        "id": "ppgcd1c78Q3e"
      },
      "execution_count": 79,
      "outputs": []
    },
    {
      "cell_type": "code",
      "source": [
        "from google.colab import drive\n",
        "drive.mount('/content/drive')"
      ],
      "metadata": {
        "id": "dg__KaIEOE6a",
        "outputId": "1fe87c51-add8-4b31-95d1-4bc017351e65",
        "colab": {
          "base_uri": "https://localhost:8080/"
        }
      },
      "execution_count": 80,
      "outputs": [
        {
          "output_type": "stream",
          "name": "stdout",
          "text": [
            "Drive already mounted at /content/drive; to attempt to forcibly remount, call drive.mount(\"/content/drive\", force_remount=True).\n"
          ]
        }
      ]
    },
    {
      "cell_type": "code",
      "source": [
        "folder = '/content/drive/MyDrive/FILE_ANH_AI/ChiTay/'\n",
        "\n",
        "photos, labels = list(), list()\n",
        "for file in listdir(folder):\n",
        "  output= 0.0\n",
        "  if file.startswith('leftRich'):\n",
        "    output= 1.0\n",
        "  if file.startswith('rightPoor'):\n",
        "    output= 2.0\n",
        "  photo = load_img(folder + file, target_size= (32,32))\n",
        "  photo= img_to_array(photo)\n",
        "\n",
        "  photos.append(photo)\n",
        "  labels.append(output)"
      ],
      "metadata": {
        "id": "8Xmz_77p8Ryj"
      },
      "execution_count": 81,
      "outputs": []
    },
    {
      "cell_type": "code",
      "source": [
        "photos= asarray(photos)\n",
        "labels= asarray(labels)\n",
        "print(photos.shape, labels.shape)\n",
        "save('/content/drive/MyDrive/npy_Data/leftRich.npy', photos)\n",
        "save('/content/drive/MyDrive/npy_Data/rightPoor.npy', labels)"
      ],
      "metadata": {
        "colab": {
          "base_uri": "https://localhost:8080/"
        },
        "id": "o1ahJ3Pe91hb",
        "outputId": "aa4157c0-50ed-4562-df74-4094cb7c7ed1"
      },
      "execution_count": 82,
      "outputs": [
        {
          "output_type": "stream",
          "name": "stdout",
          "text": [
            "(2600, 32, 32, 3) (2600,)\n"
          ]
        }
      ]
    },
    {
      "cell_type": "code",
      "source": [
        "# Split data into train & test\n",
        "from sklearn.model_selection import train_test_split\n",
        "\n",
        "x_train, x_test, y_train, y_test = train_test_split(photos, labels, test_size=0.2, random_state=42)"
      ],
      "metadata": {
        "id": "RQjgwTya-Vhy"
      },
      "execution_count": 83,
      "outputs": []
    },
    {
      "cell_type": "code",
      "source": [
        "print(x_train.shape)\n",
        "print(y_train.shape)\n",
        "print(x_test.shape)\n",
        "print(y_test.shape)"
      ],
      "metadata": {
        "colab": {
          "base_uri": "https://localhost:8080/"
        },
        "id": "Cl4e9QcA_KxM",
        "outputId": "e454be31-a5c1-499f-e1e7-d02ff060cfd7"
      },
      "execution_count": 84,
      "outputs": [
        {
          "output_type": "stream",
          "name": "stdout",
          "text": [
            "(2080, 32, 32, 3)\n",
            "(2080,)\n",
            "(520, 32, 32, 3)\n",
            "(520,)\n"
          ]
        }
      ]
    },
    {
      "cell_type": "code",
      "source": [
        "x_train = x_train.reshape((2080, 32, 32, 3))\n",
        "x_train = x_train.astype('float32')/255\n",
        "\n",
        "x_test = x_test.reshape((520, 32, 32, 3))\n",
        "x_test = x_test.astype('float32')/255"
      ],
      "metadata": {
        "id": "S3lYAonI_OVn"
      },
      "execution_count": 85,
      "outputs": []
    },
    {
      "cell_type": "code",
      "source": [
        "from keras.utils import to_categorical\n",
        "\n",
        "y_train = to_categorical(y_train, 3)\n",
        "y_test = to_categorical(y_test, 3)"
      ],
      "metadata": {
        "id": "vsFaJrvj_X9z"
      },
      "execution_count": 86,
      "outputs": []
    },
    {
      "cell_type": "code",
      "execution_count": 87,
      "metadata": {
        "id": "oBHwV3GRCmba"
      },
      "outputs": [],
      "source": [
        "from keras.models import Sequential,Model\n",
        "from keras.layers import Dense,Flatten,Dropout,Conv2D,MaxPooling2D,Normalization,Input\n",
        "from keras.optimizers import Adam\n",
        "from keras import losses\n",
        "\n",
        "loss = losses\n",
        "batch_size = 64\n",
        "epochs = 40\n",
        "classes = 3"
      ]
    },
    {
      "cell_type": "code",
      "source": [
        "from keras.layers import LeakyReLU\n",
        "model = Sequential()\n",
        "model.add(Conv2D(32, kernel_size = (3,3), activation = 'linear', input_shape = (32, 32, 3), padding= 'same'))\n",
        "model.add(LeakyReLU(alpha = 0.1))\n",
        "\n",
        "model.add(MaxPooling2D((2,2), padding = 'same'))\n",
        "model.add(Conv2D(64, (3,3), activation = 'linear', padding = 'same'))\n",
        "model.add(Conv2D(64, (3,3), activation = 'linear', padding = 'same'))\n",
        "model.add(LeakyReLU(alpha = 0.1))\n",
        "\n",
        "model.add(MaxPooling2D((2,2), padding = 'same'))\n",
        "model.add(Conv2D(128, (3,3), activation = 'linear', padding = 'same'))\n",
        "model.add(LeakyReLU(alpha = 0.1))\n",
        "\n",
        "model.add(MaxPooling2D((2,2), padding = 'same'))\n",
        "model.add(Conv2D(256, (3,3), activation = 'linear', padding = 'same'))\n",
        "model.add(LeakyReLU(alpha = 0.1))\n",
        "\n",
        "model.add(MaxPooling2D((2,2), padding = 'same'))\n",
        "model.add(Conv2D(512, (3,3), activation = 'linear', padding = 'same'))\n",
        "model.add(LeakyReLU(alpha = 0.1))\n",
        "\n",
        "model.add(MaxPooling2D((2,2), padding = 'same'))\n",
        "model.add(Conv2D(1024, (3,3), activation = 'linear', padding = 'same'))\n",
        "model.add(LeakyReLU(alpha = 0.1))"
      ],
      "metadata": {
        "id": "jZMItKPmiBNs"
      },
      "execution_count": 88,
      "outputs": []
    },
    {
      "cell_type": "code",
      "source": [
        "#Đưa vào ANN, bộ ANN để phân loại:\n",
        "from keras.losses import categorical_crossentropy\n",
        "model.add(Flatten())\n",
        "model.add(Dense(1024, activation = 'linear'))#lớp ẩn có 1024 lớp\n",
        "\n",
        "model.add(Dense(classes, activation = 'softmax'))\n",
        "model.summary()"
      ],
      "metadata": {
        "colab": {
          "base_uri": "https://localhost:8080/"
        },
        "id": "Ze6i3MIBdp7V",
        "outputId": "de8d6142-7d3e-49b6-e88e-1fc3dbfce5d9"
      },
      "execution_count": 89,
      "outputs": [
        {
          "output_type": "stream",
          "name": "stdout",
          "text": [
            "Model: \"sequential_4\"\n",
            "_________________________________________________________________\n",
            " Layer (type)                Output Shape              Param #   \n",
            "=================================================================\n",
            " conv2d_28 (Conv2D)          (None, 32, 32, 32)        896       \n",
            "                                                                 \n",
            " leaky_re_lu_24 (LeakyReLU)  (None, 32, 32, 32)        0         \n",
            "                                                                 \n",
            " max_pooling2d_20 (MaxPoolin  (None, 16, 16, 32)       0         \n",
            " g2D)                                                            \n",
            "                                                                 \n",
            " conv2d_29 (Conv2D)          (None, 16, 16, 64)        18496     \n",
            "                                                                 \n",
            " conv2d_30 (Conv2D)          (None, 16, 16, 64)        36928     \n",
            "                                                                 \n",
            " leaky_re_lu_25 (LeakyReLU)  (None, 16, 16, 64)        0         \n",
            "                                                                 \n",
            " max_pooling2d_21 (MaxPoolin  (None, 8, 8, 64)         0         \n",
            " g2D)                                                            \n",
            "                                                                 \n",
            " conv2d_31 (Conv2D)          (None, 8, 8, 128)         73856     \n",
            "                                                                 \n",
            " leaky_re_lu_26 (LeakyReLU)  (None, 8, 8, 128)         0         \n",
            "                                                                 \n",
            " max_pooling2d_22 (MaxPoolin  (None, 4, 4, 128)        0         \n",
            " g2D)                                                            \n",
            "                                                                 \n",
            " conv2d_32 (Conv2D)          (None, 4, 4, 256)         295168    \n",
            "                                                                 \n",
            " leaky_re_lu_27 (LeakyReLU)  (None, 4, 4, 256)         0         \n",
            "                                                                 \n",
            " max_pooling2d_23 (MaxPoolin  (None, 2, 2, 256)        0         \n",
            " g2D)                                                            \n",
            "                                                                 \n",
            " conv2d_33 (Conv2D)          (None, 2, 2, 512)         1180160   \n",
            "                                                                 \n",
            " leaky_re_lu_28 (LeakyReLU)  (None, 2, 2, 512)         0         \n",
            "                                                                 \n",
            " max_pooling2d_24 (MaxPoolin  (None, 1, 1, 512)        0         \n",
            " g2D)                                                            \n",
            "                                                                 \n",
            " conv2d_34 (Conv2D)          (None, 1, 1, 1024)        4719616   \n",
            "                                                                 \n",
            " leaky_re_lu_29 (LeakyReLU)  (None, 1, 1, 1024)        0         \n",
            "                                                                 \n",
            " flatten_5 (Flatten)         (None, 1024)              0         \n",
            "                                                                 \n",
            " dense_10 (Dense)            (None, 1024)              1049600   \n",
            "                                                                 \n",
            " dense_11 (Dense)            (None, 3)                 3075      \n",
            "                                                                 \n",
            "=================================================================\n",
            "Total params: 7,377,795\n",
            "Trainable params: 7,377,795\n",
            "Non-trainable params: 0\n",
            "_________________________________________________________________\n"
          ]
        }
      ]
    },
    {
      "cell_type": "code",
      "source": [
        "#Compile:\n",
        "model.compile(optimizer = 'adam', loss = 'categorical_crossentropy', metrics = ['accuracy'])\n",
        "train = model.fit(x_train, y_train, batch_size= batch_size, epochs= epochs, verbose= 1)"
      ],
      "metadata": {
        "id": "yUnw31vGdtF0",
        "colab": {
          "base_uri": "https://localhost:8080/"
        },
        "outputId": "4c1d778c-af69-409b-e1c2-88a5f9a99567"
      },
      "execution_count": 90,
      "outputs": [
        {
          "output_type": "stream",
          "name": "stdout",
          "text": [
            "Epoch 1/40\n",
            "33/33 [==============================] - 4s 16ms/step - loss: 0.8255 - accuracy: 0.5010\n",
            "Epoch 2/40\n",
            "33/33 [==============================] - 1s 23ms/step - loss: 0.7065 - accuracy: 0.5029\n",
            "Epoch 3/40\n",
            "33/33 [==============================] - 1s 22ms/step - loss: 0.6989 - accuracy: 0.5111\n",
            "Epoch 4/40\n",
            "33/33 [==============================] - 1s 21ms/step - loss: 0.6975 - accuracy: 0.4971\n",
            "Epoch 5/40\n",
            "33/33 [==============================] - 1s 20ms/step - loss: 0.6982 - accuracy: 0.4952\n",
            "Epoch 6/40\n",
            "33/33 [==============================] - 1s 18ms/step - loss: 0.6962 - accuracy: 0.4827\n",
            "Epoch 7/40\n",
            "33/33 [==============================] - 1s 19ms/step - loss: 0.6978 - accuracy: 0.5048\n",
            "Epoch 8/40\n",
            "33/33 [==============================] - 0s 13ms/step - loss: 0.7012 - accuracy: 0.5058\n",
            "Epoch 9/40\n",
            "33/33 [==============================] - 0s 13ms/step - loss: 0.6941 - accuracy: 0.5135\n",
            "Epoch 10/40\n",
            "33/33 [==============================] - 0s 13ms/step - loss: 0.6952 - accuracy: 0.4861\n",
            "Epoch 11/40\n",
            "33/33 [==============================] - 0s 12ms/step - loss: 0.6942 - accuracy: 0.4981\n",
            "Epoch 12/40\n",
            "33/33 [==============================] - 0s 12ms/step - loss: 0.6937 - accuracy: 0.5106\n",
            "Epoch 13/40\n",
            "33/33 [==============================] - 0s 13ms/step - loss: 0.6981 - accuracy: 0.4990\n",
            "Epoch 14/40\n",
            "33/33 [==============================] - 0s 12ms/step - loss: 0.6950 - accuracy: 0.5096\n",
            "Epoch 15/40\n",
            "33/33 [==============================] - 0s 13ms/step - loss: 0.6943 - accuracy: 0.5144\n",
            "Epoch 16/40\n",
            "33/33 [==============================] - 0s 12ms/step - loss: 0.6970 - accuracy: 0.4923\n",
            "Epoch 17/40\n",
            "33/33 [==============================] - 0s 13ms/step - loss: 0.6990 - accuracy: 0.4827\n",
            "Epoch 18/40\n",
            "33/33 [==============================] - 0s 13ms/step - loss: 0.6949 - accuracy: 0.4904\n",
            "Epoch 19/40\n",
            "33/33 [==============================] - 0s 13ms/step - loss: 0.6949 - accuracy: 0.4885\n",
            "Epoch 20/40\n",
            "33/33 [==============================] - 0s 12ms/step - loss: 0.6944 - accuracy: 0.4990\n",
            "Epoch 21/40\n",
            "33/33 [==============================] - 0s 13ms/step - loss: 0.6968 - accuracy: 0.4904\n",
            "Epoch 22/40\n",
            "33/33 [==============================] - 0s 13ms/step - loss: 0.6951 - accuracy: 0.4990\n",
            "Epoch 23/40\n",
            "33/33 [==============================] - 0s 13ms/step - loss: 0.6961 - accuracy: 0.4865\n",
            "Epoch 24/40\n",
            "33/33 [==============================] - 0s 12ms/step - loss: 0.6943 - accuracy: 0.4875\n",
            "Epoch 25/40\n",
            "33/33 [==============================] - 0s 13ms/step - loss: 0.6943 - accuracy: 0.5034\n",
            "Epoch 26/40\n",
            "33/33 [==============================] - 0s 13ms/step - loss: 0.6972 - accuracy: 0.4947\n",
            "Epoch 27/40\n",
            "33/33 [==============================] - 0s 14ms/step - loss: 0.6950 - accuracy: 0.4962\n",
            "Epoch 28/40\n",
            "33/33 [==============================] - 0s 14ms/step - loss: 0.6969 - accuracy: 0.4865\n",
            "Epoch 29/40\n",
            "33/33 [==============================] - 0s 14ms/step - loss: 0.6934 - accuracy: 0.5192\n",
            "Epoch 30/40\n",
            "33/33 [==============================] - 0s 13ms/step - loss: 0.6962 - accuracy: 0.4942\n",
            "Epoch 31/40\n",
            "33/33 [==============================] - 0s 14ms/step - loss: 0.6951 - accuracy: 0.4885\n",
            "Epoch 32/40\n",
            "33/33 [==============================] - 0s 14ms/step - loss: 0.6940 - accuracy: 0.4976\n",
            "Epoch 33/40\n",
            "33/33 [==============================] - 0s 14ms/step - loss: 0.6938 - accuracy: 0.5000\n",
            "Epoch 34/40\n",
            "33/33 [==============================] - 0s 13ms/step - loss: 0.6960 - accuracy: 0.4899\n",
            "Epoch 35/40\n",
            "33/33 [==============================] - 0s 14ms/step - loss: 0.6951 - accuracy: 0.4990\n",
            "Epoch 36/40\n",
            "33/33 [==============================] - 0s 14ms/step - loss: 0.6947 - accuracy: 0.5029\n",
            "Epoch 37/40\n",
            "33/33 [==============================] - 0s 13ms/step - loss: 0.6941 - accuracy: 0.4913\n",
            "Epoch 38/40\n",
            "33/33 [==============================] - 0s 13ms/step - loss: 0.6938 - accuracy: 0.4976\n",
            "Epoch 39/40\n",
            "33/33 [==============================] - 0s 13ms/step - loss: 0.6943 - accuracy: 0.5154\n",
            "Epoch 40/40\n",
            "33/33 [==============================] - 0s 12ms/step - loss: 0.6946 - accuracy: 0.5029\n"
          ]
        }
      ]
    },
    {
      "cell_type": "code",
      "source": [
        "# Evaluate model\n",
        "test_loss, test_acc = model.evaluate(x_test, y_test)\n",
        "print('Test accuracy:', test_acc)"
      ],
      "metadata": {
        "id": "JtlMhwm0TKyv",
        "colab": {
          "base_uri": "https://localhost:8080/"
        },
        "outputId": "4bccba90-1856-492b-abcc-48ea959b8539"
      },
      "execution_count": 91,
      "outputs": [
        {
          "output_type": "stream",
          "name": "stdout",
          "text": [
            "17/17 [==============================] - 0s 7ms/step - loss: 0.6930 - accuracy: 0.5269\n",
            "Test accuracy: 0.5269230604171753\n"
          ]
        }
      ]
    },
    {
      "cell_type": "code",
      "source": [
        "#lưu data\n",
        "model.save('/content/drive/MyDrive/Colab Notebooks/BAITAP/chiTayModel.h5')"
      ],
      "metadata": {
        "id": "XGc2Uzh4h9h6"
      },
      "execution_count": 93,
      "outputs": []
    },
    {
      "cell_type": "code",
      "source": [
        "#thu nghiem\n",
        "from keras.utils import load_img\n",
        "from keras.utils import img_to_array\n",
        "import matplotlib.pyplot as plt\n",
        "import numpy as np\n",
        "\n",
        "img = load_img('/content/drive/MyDrive/npy_Data/Chitay_TUNG/leftRich.jpg', target_size=(32, 32, 3))\n",
        "plt.imshow(img)\n",
        "img = img_to_array(img)\n",
        "img = img.reshape(1, 32, 32, 3)\n",
        "img = img.astype('float32')\n",
        "img = img/255\n",
        "photo=np.expand_dims(img,axis=0)\n",
        "predicted_label = (model.predict(img).argmax())\n",
        "\n",
        "class_name=['','leftRich', 'rightPoor']\n",
        "print(class_name[predicted_label])\n",
        "plt.show()\n"
      ],
      "metadata": {
        "colab": {
          "base_uri": "https://localhost:8080/",
          "height": 465
        },
        "id": "UfvF0F7yJAMS",
        "outputId": "efdddc39-d257-4f23-e6f6-73080ff301f3"
      },
      "execution_count": 95,
      "outputs": [
        {
          "output_type": "stream",
          "name": "stdout",
          "text": [
            "1/1 [==============================] - 0s 19ms/step\n",
            "leftRich\n"
          ]
        },
        {
          "output_type": "display_data",
          "data": {
            "text/plain": [
              "<Figure size 640x480 with 1 Axes>"
            ],
            "image/png": "[encoded data removed]"
          },
          "metadata": {}
        }
      ]
    }
  ]
}