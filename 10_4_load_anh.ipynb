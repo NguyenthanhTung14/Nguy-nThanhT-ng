{
  "nbformat": 4,
  "nbformat_minor": 0,
  "metadata": {
    "colab": {
      "provenance": [],
      "mount_file_id": "1gDYdRGBfdWYwR0XZWEBWjlm60v3-fumo",
      "authorship_tag": "ABX9TyNqsHQiU8mwFH3PgCV8C5OT",
      "include_colab_link": true
    },
    "kernelspec": {
      "name": "python3",
      "display_name": "Python 3"
    },
    "language_info": {
      "name": "python"
    }
  },
  "cells": [
    {
      "cell_type": "markdown",
      "metadata": {
        "id": "view-in-github",
        "colab_type": "text"
      },
      "source": [
        "<a href=\"https://colab.research.google.com/github/NguyenthanhTung14/Nguy-nThanhT-ng/blob/main/10_4_load_anh.ipynb\" target=\"_parent\"><img src=\"https://colab.research.google.com/assets/colab-badge.svg\" alt=\"Open In Colab\"/></a>"
      ]
    },
    {
      "cell_type": "code",
      "execution_count": null,
      "metadata": {
        "id": "V9db0V1_pdvM"
      },
      "outputs": [],
      "source": [
        "from os import listdir\n",
        "from numpy import asarray\n",
        "from numpy import save\n",
        "from kera.preprocessing.image import load_img,img_to_array\n",
        "folder=''\n",
        "photos,labels=list(),list()\n",
        "for file in listdir(folder):\n",
        "  output=0.0\n",
        "  if file.startswith('Huy'):\n",
        "    output=1.0\n",
        "  if file.startswith('Tu'):\n",
        "    output=2.0\n",
        "  photo = load_img(folder+file,target_size(200,200))\n",
        "  photo=img_to_array(img)\n",
        "  photosappend\n"
      ]
    }
  ]
}